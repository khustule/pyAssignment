{
  "nbformat": 4,
  "nbformat_minor": 0,
  "metadata": {
    "colab": {
      "provenance": [],
      "include_colab_link": true
    },
    "kernelspec": {
      "name": "python3",
      "display_name": "Python 3"
    },
    "language_info": {
      "name": "python"
    }
  },
  "cells": [
    {
      "cell_type": "markdown",
      "metadata": {
        "id": "view-in-github",
        "colab_type": "text"
      },
      "source": [
        "<a href=\"https://colab.research.google.com/github/khustule/pyAssignment/blob/main/Encoder.ipynb\" target=\"_parent\"><img src=\"https://colab.research.google.com/assets/colab-badge.svg\" alt=\"Open In Colab\"/></a>"
      ]
    },
    {
      "cell_type": "markdown",
      "source": [
        "# LabelBinarizer"
      ],
      "metadata": {
        "id": "wyGIM4yZjX9B"
      }
    },
    {
      "cell_type": "code",
      "execution_count": null,
      "metadata": {
        "id": "MPNPW8dNiFIL"
      },
      "outputs": [],
      "source": [
        "from sklearn.preprocessing import LabelBinarizer"
      ]
    },
    {
      "cell_type": "code",
      "source": [
        "lb = LabelBinarizer()"
      ],
      "metadata": {
        "id": "5Z__v-HGiNpX"
      },
      "execution_count": null,
      "outputs": []
    },
    {
      "cell_type": "code",
      "source": [
        "labels = [1,2,4,6,3]"
      ],
      "metadata": {
        "id": "7QnmQptriTDG"
      },
      "execution_count": null,
      "outputs": []
    },
    {
      "cell_type": "code",
      "source": [
        "lb.fit(labels)"
      ],
      "metadata": {
        "colab": {
          "base_uri": "https://localhost:8080/"
        },
        "id": "WyEhmZ4biZu8",
        "outputId": "4660c061-4e8e-40ce-caea-7da93483689e"
      },
      "execution_count": null,
      "outputs": [
        {
          "output_type": "execute_result",
          "data": {
            "text/plain": [
              "LabelBinarizer()"
            ]
          },
          "metadata": {},
          "execution_count": 4
        }
      ]
    },
    {
      "cell_type": "code",
      "source": [
        "lb.classes_"
      ],
      "metadata": {
        "colab": {
          "base_uri": "https://localhost:8080/"
        },
        "id": "YjmqF6oMie2X",
        "outputId": "f308b301-9f52-44f8-c41c-9209b3994272"
      },
      "execution_count": null,
      "outputs": [
        {
          "output_type": "execute_result",
          "data": {
            "text/plain": [
              "array([1, 2, 3, 4, 6])"
            ]
          },
          "metadata": {},
          "execution_count": 5
        }
      ]
    },
    {
      "cell_type": "code",
      "source": [
        "lb.transform([3,5,4])"
      ],
      "metadata": {
        "colab": {
          "base_uri": "https://localhost:8080/"
        },
        "id": "ZfffDBwQigca",
        "outputId": "dac52819-07dc-4148-9762-c37285debf43"
      },
      "execution_count": null,
      "outputs": [
        {
          "output_type": "execute_result",
          "data": {
            "text/plain": [
              "array([[0, 0, 1, 0, 0],\n",
              "       [0, 0, 0, 0, 0],\n",
              "       [0, 0, 0, 1, 0]])"
            ]
          },
          "metadata": {},
          "execution_count": 7
        }
      ]
    },
    {
      "cell_type": "code",
      "source": [
        "labels = ['red','blue','green','white']"
      ],
      "metadata": {
        "id": "KeQIUDTvilJd"
      },
      "execution_count": null,
      "outputs": []
    },
    {
      "cell_type": "code",
      "source": [
        "lb.fit(labels)"
      ],
      "metadata": {
        "colab": {
          "base_uri": "https://localhost:8080/"
        },
        "id": "nsCILJT8i9H_",
        "outputId": "375d7271-2fb4-4ccb-99a0-63cf511ab955"
      },
      "execution_count": null,
      "outputs": [
        {
          "output_type": "execute_result",
          "data": {
            "text/plain": [
              "LabelBinarizer()"
            ]
          },
          "metadata": {},
          "execution_count": 9
        }
      ]
    },
    {
      "cell_type": "code",
      "source": [
        "lb.classes_"
      ],
      "metadata": {
        "colab": {
          "base_uri": "https://localhost:8080/"
        },
        "id": "GWJBF410i-ov",
        "outputId": "4514f126-bfc5-4027-8f22-730f7d25ca50"
      },
      "execution_count": null,
      "outputs": [
        {
          "output_type": "execute_result",
          "data": {
            "text/plain": [
              "array(['blue', 'green', 'red', 'white'], dtype='<U5')"
            ]
          },
          "metadata": {},
          "execution_count": 10
        }
      ]
    },
    {
      "cell_type": "code",
      "source": [
        "lb.transform(['blue'])"
      ],
      "metadata": {
        "colab": {
          "base_uri": "https://localhost:8080/"
        },
        "id": "QNrRn83BjAdM",
        "outputId": "7cad90f8-d019-4853-c405-de0e7c8a7d5b"
      },
      "execution_count": null,
      "outputs": [
        {
          "output_type": "execute_result",
          "data": {
            "text/plain": [
              "array([[1, 0, 0, 0]])"
            ]
          },
          "metadata": {},
          "execution_count": 11
        }
      ]
    },
    {
      "cell_type": "code",
      "source": [
        "lb.transform(['blue','white'])"
      ],
      "metadata": {
        "colab": {
          "base_uri": "https://localhost:8080/"
        },
        "id": "Js87E3zhjH1f",
        "outputId": "3473b1c6-5790-490c-e3e8-927e38ed1cc6"
      },
      "execution_count": null,
      "outputs": [
        {
          "output_type": "execute_result",
          "data": {
            "text/plain": [
              "array([[1, 0, 0, 0],\n",
              "       [0, 0, 0, 1]])"
            ]
          },
          "metadata": {},
          "execution_count": 13
        }
      ]
    },
    {
      "cell_type": "code",
      "source": [],
      "metadata": {
        "id": "g8HtqC5xjNKt"
      },
      "execution_count": null,
      "outputs": []
    },
    {
      "cell_type": "markdown",
      "source": [
        "# MultiLabel Binarizer"
      ],
      "metadata": {
        "id": "sGwncHaojbHy"
      }
    },
    {
      "cell_type": "code",
      "source": [
        "from sklearn.preprocessing import MultiLabelBinarizer"
      ],
      "metadata": {
        "id": "e_YMmP81jctj"
      },
      "execution_count": null,
      "outputs": []
    },
    {
      "cell_type": "code",
      "source": [
        "mlb = MultiLabelBinarizer()"
      ],
      "metadata": {
        "id": "vkurtut-jiCW"
      },
      "execution_count": null,
      "outputs": []
    },
    {
      "cell_type": "code",
      "source": [
        "x = [('red','green'),('blue','red'),('white','black')]"
      ],
      "metadata": {
        "id": "E0It1hgsjkLA"
      },
      "execution_count": null,
      "outputs": []
    },
    {
      "cell_type": "code",
      "source": [
        "mlb.fit(x)"
      ],
      "metadata": {
        "colab": {
          "base_uri": "https://localhost:8080/"
        },
        "id": "qwIw3iUzjt34",
        "outputId": "19ddaa1e-3b3a-457e-800e-2c412b168381"
      },
      "execution_count": null,
      "outputs": [
        {
          "output_type": "execute_result",
          "data": {
            "text/plain": [
              "MultiLabelBinarizer()"
            ]
          },
          "metadata": {},
          "execution_count": 17
        }
      ]
    },
    {
      "cell_type": "code",
      "source": [
        "mlb.classes_"
      ],
      "metadata": {
        "colab": {
          "base_uri": "https://localhost:8080/"
        },
        "id": "ai0kaUmzjvbo",
        "outputId": "8d0d10ed-b5c0-4d93-dd74-cf601e1ea1f3"
      },
      "execution_count": null,
      "outputs": [
        {
          "output_type": "execute_result",
          "data": {
            "text/plain": [
              "array(['black', 'blue', 'green', 'red', 'white'], dtype=object)"
            ]
          },
          "metadata": {},
          "execution_count": 18
        }
      ]
    },
    {
      "cell_type": "code",
      "source": [
        "mlb.transform([('red','black')])"
      ],
      "metadata": {
        "colab": {
          "base_uri": "https://localhost:8080/"
        },
        "id": "vJjJyzQjjx0X",
        "outputId": "9537fee1-7976-4d19-cb44-e7350fce9370"
      },
      "execution_count": null,
      "outputs": [
        {
          "output_type": "execute_result",
          "data": {
            "text/plain": [
              "array([[1, 0, 0, 1, 0]])"
            ]
          },
          "metadata": {},
          "execution_count": 19
        }
      ]
    },
    {
      "cell_type": "code",
      "source": [],
      "metadata": {
        "id": "876URG_4j5mH"
      },
      "execution_count": null,
      "outputs": []
    },
    {
      "cell_type": "markdown",
      "source": [
        "# Label Encoder"
      ],
      "metadata": {
        "id": "SFkerprJkd1J"
      }
    },
    {
      "cell_type": "code",
      "source": [
        "from sklearn.preprocessing import LabelEncoder"
      ],
      "metadata": {
        "id": "ChmB2brekfRg"
      },
      "execution_count": null,
      "outputs": []
    },
    {
      "cell_type": "code",
      "source": [
        "le = LabelEncoder()"
      ],
      "metadata": {
        "id": "WfTDi4I8kj64"
      },
      "execution_count": null,
      "outputs": []
    },
    {
      "cell_type": "code",
      "source": [
        "x = ['red','red','green','black']"
      ],
      "metadata": {
        "id": "M8pjXyz6km8M"
      },
      "execution_count": null,
      "outputs": []
    },
    {
      "cell_type": "code",
      "source": [
        "le.fit(x)"
      ],
      "metadata": {
        "colab": {
          "base_uri": "https://localhost:8080/"
        },
        "id": "pVE5vJ--kq6V",
        "outputId": "c26d1226-5c2f-45ec-8a89-943dc5d2d327"
      },
      "execution_count": null,
      "outputs": [
        {
          "output_type": "execute_result",
          "data": {
            "text/plain": [
              "LabelEncoder()"
            ]
          },
          "metadata": {},
          "execution_count": 23
        }
      ]
    },
    {
      "cell_type": "code",
      "source": [
        "le.classes_"
      ],
      "metadata": {
        "colab": {
          "base_uri": "https://localhost:8080/"
        },
        "id": "TOW7bXzOkr3U",
        "outputId": "2ef63904-49c4-49c4-c58c-4f0cf1ed6d4f"
      },
      "execution_count": null,
      "outputs": [
        {
          "output_type": "execute_result",
          "data": {
            "text/plain": [
              "array(['black', 'green', 'red'], dtype='<U5')"
            ]
          },
          "metadata": {},
          "execution_count": 24
        }
      ]
    },
    {
      "cell_type": "code",
      "source": [
        "le.transform(['green'])"
      ],
      "metadata": {
        "colab": {
          "base_uri": "https://localhost:8080/"
        },
        "id": "Wla3ul3OktYB",
        "outputId": "e4532cf7-ec8f-4fa7-883a-5766494e61f8"
      },
      "execution_count": null,
      "outputs": [
        {
          "output_type": "execute_result",
          "data": {
            "text/plain": [
              "array([1])"
            ]
          },
          "metadata": {},
          "execution_count": 25
        }
      ]
    },
    {
      "cell_type": "code",
      "source": [
        "le.transform(['black'])"
      ],
      "metadata": {
        "colab": {
          "base_uri": "https://localhost:8080/"
        },
        "id": "EJmkNca3kwVg",
        "outputId": "0f0c17da-fd85-4efb-8f62-120b0772a064"
      },
      "execution_count": null,
      "outputs": [
        {
          "output_type": "execute_result",
          "data": {
            "text/plain": [
              "array([0])"
            ]
          },
          "metadata": {},
          "execution_count": 27
        }
      ]
    },
    {
      "cell_type": "code",
      "source": [],
      "metadata": {
        "id": "PI0lq_hlk3d3"
      },
      "execution_count": null,
      "outputs": []
    },
    {
      "cell_type": "markdown",
      "source": [
        "# StringInxeder (PySpark)"
      ],
      "metadata": {
        "id": "3Vk4juLIlMs_"
      }
    },
    {
      "cell_type": "code",
      "source": [
        "pip install pyspark"
      ],
      "metadata": {
        "colab": {
          "base_uri": "https://localhost:8080/"
        },
        "id": "xQd0nv9ulO6c",
        "outputId": "a7b39efa-30dc-4dfb-a5a0-f42ee3e318bc"
      },
      "execution_count": null,
      "outputs": [
        {
          "output_type": "stream",
          "name": "stdout",
          "text": [
            "Looking in indexes: https://pypi.org/simple, https://us-python.pkg.dev/colab-wheels/public/simple/\n",
            "Collecting pyspark\n",
            "  Downloading pyspark-3.3.0.tar.gz (281.3 MB)\n",
            "\u001b[K     |████████████████████████████████| 281.3 MB 47 kB/s \n",
            "\u001b[?25hCollecting py4j==0.10.9.5\n",
            "  Downloading py4j-0.10.9.5-py2.py3-none-any.whl (199 kB)\n",
            "\u001b[K     |████████████████████████████████| 199 kB 38.9 MB/s \n",
            "\u001b[?25hBuilding wheels for collected packages: pyspark\n",
            "  Building wheel for pyspark (setup.py) ... \u001b[?25l\u001b[?25hdone\n",
            "  Created wheel for pyspark: filename=pyspark-3.3.0-py2.py3-none-any.whl size=281764026 sha256=fb5ba8102ed935ba74b0221a8c7caf6d8e00e172047205cc482fd29056004ff3\n",
            "  Stored in directory: /root/.cache/pip/wheels/7a/8e/1b/f73a52650d2e5f337708d9f6a1750d451a7349a867f928b885\n",
            "Successfully built pyspark\n",
            "Installing collected packages: py4j, pyspark\n",
            "Successfully installed py4j-0.10.9.5 pyspark-3.3.0\n"
          ]
        }
      ]
    },
    {
      "cell_type": "code",
      "source": [
        "from pyspark.ml.feature import StringIndexer\n",
        "from pyspark.sql import SparkSession"
      ],
      "metadata": {
        "id": "zjbco6M9lRu4"
      },
      "execution_count": null,
      "outputs": []
    },
    {
      "cell_type": "code",
      "source": [
        "spark = SparkSession.builder.appName(\"Pune\").getOrCreate()"
      ],
      "metadata": {
        "id": "gKRM8SCblYiD"
      },
      "execution_count": null,
      "outputs": []
    },
    {
      "cell_type": "code",
      "source": [
        "df = spark.createDataFrame(\n",
        "    [\n",
        "        (1,\"a\"), (2,\"a\"), (3,\"a\"), (4,\"b\"),(5,\"b\"),(6,\"c\")\n",
        "    ],\n",
        "    ['id','category']\n",
        ")"
      ],
      "metadata": {
        "id": "ZQlllh_nlmDi"
      },
      "execution_count": null,
      "outputs": []
    },
    {
      "cell_type": "code",
      "source": [
        "df.show()"
      ],
      "metadata": {
        "colab": {
          "base_uri": "https://localhost:8080/"
        },
        "id": "777jBp3qmAA8",
        "outputId": "07a3442f-cc18-4dfb-f342-caba1075c822"
      },
      "execution_count": null,
      "outputs": [
        {
          "output_type": "stream",
          "name": "stdout",
          "text": [
            "+---+--------+\n",
            "| id|category|\n",
            "+---+--------+\n",
            "|  1|       a|\n",
            "|  2|       a|\n",
            "|  3|       a|\n",
            "|  4|       b|\n",
            "|  5|       b|\n",
            "|  6|       c|\n",
            "+---+--------+\n",
            "\n"
          ]
        }
      ]
    },
    {
      "cell_type": "code",
      "source": [
        "indexer = StringIndexer(\n",
        "    inputCol = 'category',\n",
        "    outputCol = 'CatIndex'\n",
        ")"
      ],
      "metadata": {
        "id": "7ZOyctCUmBYg"
      },
      "execution_count": null,
      "outputs": []
    },
    {
      "cell_type": "code",
      "source": [
        "indexed = indexer.fit(df).transform(df)"
      ],
      "metadata": {
        "id": "4anf4MqLmugI"
      },
      "execution_count": null,
      "outputs": []
    },
    {
      "cell_type": "code",
      "source": [
        "indexed.show()"
      ],
      "metadata": {
        "colab": {
          "base_uri": "https://localhost:8080/"
        },
        "id": "enBP1HCdm2Gu",
        "outputId": "55085234-92eb-4f31-8dbe-5a3ee388d83b"
      },
      "execution_count": null,
      "outputs": [
        {
          "output_type": "stream",
          "name": "stdout",
          "text": [
            "+---+--------+--------+\n",
            "| id|category|CatIndex|\n",
            "+---+--------+--------+\n",
            "|  1|       a|     0.0|\n",
            "|  2|       a|     0.0|\n",
            "|  3|       a|     0.0|\n",
            "|  4|       b|     1.0|\n",
            "|  5|       b|     1.0|\n",
            "|  6|       c|     2.0|\n",
            "+---+--------+--------+\n",
            "\n"
          ]
        }
      ]
    },
    {
      "cell_type": "markdown",
      "source": [
        "# Ordinal Encoder\n"
      ],
      "metadata": {
        "id": "HfTCXKqpnOL3"
      }
    },
    {
      "cell_type": "code",
      "source": [
        "from sklearn.preprocessing import OrdinalEncoder"
      ],
      "metadata": {
        "id": "Hifwc3wQm4Iq"
      },
      "execution_count": null,
      "outputs": []
    },
    {
      "cell_type": "code",
      "source": [
        "oe = OrdinalEncoder()"
      ],
      "metadata": {
        "id": "OcngyYiLnXdr"
      },
      "execution_count": null,
      "outputs": []
    },
    {
      "cell_type": "code",
      "source": [
        "X = [['male', 'from US', 'uses Safari'], ['female', 'from Europe', 'uses Firefox']]"
      ],
      "metadata": {
        "id": "UuwnYgeHnbFt"
      },
      "execution_count": null,
      "outputs": []
    },
    {
      "cell_type": "code",
      "source": [
        "oe.fit(X)"
      ],
      "metadata": {
        "colab": {
          "base_uri": "https://localhost:8080/"
        },
        "id": "1wpJEllwnePO",
        "outputId": "d25e08b8-d51d-4a39-98eb-d3c66ccc1fd7"
      },
      "execution_count": null,
      "outputs": [
        {
          "output_type": "execute_result",
          "data": {
            "text/plain": [
              "OrdinalEncoder()"
            ]
          },
          "metadata": {},
          "execution_count": 44
        }
      ]
    },
    {
      "cell_type": "code",
      "source": [
        "oe.categories_"
      ],
      "metadata": {
        "colab": {
          "base_uri": "https://localhost:8080/"
        },
        "id": "Kpi7yyPvn84n",
        "outputId": "7ce00cc1-f05f-493a-d667-90fb9babf292"
      },
      "execution_count": null,
      "outputs": [
        {
          "output_type": "execute_result",
          "data": {
            "text/plain": [
              "[array(['female', 'male'], dtype=object),\n",
              " array(['from Europe', 'from US'], dtype=object),\n",
              " array(['uses Firefox', 'uses Safari'], dtype=object)]"
            ]
          },
          "metadata": {},
          "execution_count": 49
        }
      ]
    },
    {
      "cell_type": "code",
      "source": [
        "oe.transform([['female','from US','uses Firefox']])"
      ],
      "metadata": {
        "colab": {
          "base_uri": "https://localhost:8080/"
        },
        "id": "74si1XN-nhUm",
        "outputId": "8e2cae98-3b41-459d-b028-5dcdf1b5f211"
      },
      "execution_count": null,
      "outputs": [
        {
          "output_type": "execute_result",
          "data": {
            "text/plain": [
              "array([[0., 1., 0.]])"
            ]
          },
          "metadata": {},
          "execution_count": 47
        }
      ]
    },
    {
      "cell_type": "markdown",
      "source": [
        "# One Hot Encoder"
      ],
      "metadata": {
        "id": "gllFjHBLoe8a"
      }
    },
    {
      "cell_type": "code",
      "source": [
        "from sklearn.preprocessing import OneHotEncoder\n",
        "enc = OneHotEncoder()\n",
        "X = [['male', 'from US', 'uses Safari'], ['female', 'from Europe', 'uses Firefox']]\n",
        "enc.fit(X)\n",
        "enc.transform([['female', 'from US', 'uses Safari'], ['male', 'from Europe', 'uses Safari']]).toarray()\n"
      ],
      "metadata": {
        "colab": {
          "base_uri": "https://localhost:8080/"
        },
        "id": "1U_T92r4nw_R",
        "outputId": "f9cf31b0-1041-4fc9-d00d-4cc12fbf8fdb"
      },
      "execution_count": null,
      "outputs": [
        {
          "output_type": "execute_result",
          "data": {
            "text/plain": [
              "array([[1., 0., 0., 1., 0., 1.],\n",
              "       [0., 1., 1., 0., 0., 1.]])"
            ]
          },
          "metadata": {},
          "execution_count": 50
        }
      ]
    },
    {
      "cell_type": "code",
      "source": [],
      "metadata": {
        "id": "gHVl1uC3oxm-"
      },
      "execution_count": null,
      "outputs": []
    },
    {
      "cell_type": "code",
      "source": [],
      "metadata": {
        "id": "UCfwByz7pTE1"
      },
      "execution_count": null,
      "outputs": []
    },
    {
      "cell_type": "code",
      "source": [],
      "metadata": {
        "id": "DcqXa3vcpTCL"
      },
      "execution_count": null,
      "outputs": []
    },
    {
      "cell_type": "code",
      "source": [],
      "metadata": {
        "id": "ZuSib_uzpS_R"
      },
      "execution_count": null,
      "outputs": []
    },
    {
      "cell_type": "code",
      "source": [],
      "metadata": {
        "id": "5Hv8evrKpS8n"
      },
      "execution_count": null,
      "outputs": []
    },
    {
      "cell_type": "code",
      "source": [
        "import pandas as pd"
      ],
      "metadata": {
        "id": "XDHFbAYMpS6F"
      },
      "execution_count": null,
      "outputs": []
    },
    {
      "cell_type": "code",
      "source": [
        "data = pd.read_excel(\"/content/Sample - EU Superstore.xlsx\")"
      ],
      "metadata": {
        "id": "-9m1fjmNpezi"
      },
      "execution_count": null,
      "outputs": []
    },
    {
      "cell_type": "code",
      "source": [
        "data"
      ],
      "metadata": {
        "colab": {
          "base_uri": "https://localhost:8080/",
          "height": 870
        },
        "id": "mtArIAWfpjXn",
        "outputId": "3cac065a-dfa0-49bc-ae9f-7e6aeeead89e"
      },
      "execution_count": null,
      "outputs": [
        {
          "output_type": "execute_result",
          "data": {
            "text/plain": [
              "       Row ID         Order ID Order Date  Ship Date       Ship Mode  \\\n",
              "0         1.0  ES-2018-1311038 2018-02-07 2018-02-11  Standard Class   \n",
              "1         2.0  ES-2018-1311038 2018-02-07 2018-02-11  Standard Class   \n",
              "2         3.0  ES-2018-1311038 2018-02-07 2018-02-11  Standard Class   \n",
              "3         4.0  ES-2018-1311038 2018-02-07 2018-02-11  Standard Class   \n",
              "4         5.0  ES-2018-1311038 2018-02-07 2018-02-11  Standard Class   \n",
              "...       ...              ...        ...        ...             ...   \n",
              "9995   9996.0  ES-2015-3780358 2015-11-16 2015-11-19     First Class   \n",
              "9996   9997.0  ES-2016-5371207 2016-01-25 2016-01-29  Standard Class   \n",
              "9997   9998.0  ES-2016-5371207 2016-01-25 2016-01-29  Standard Class   \n",
              "9998   9999.0  ES-2016-5371207 2016-01-25 2016-01-29  Standard Class   \n",
              "9999  10000.0  ES-2016-5371207 2016-01-25 2016-01-29  Standard Class   \n",
              "\n",
              "     Customer ID      Customer Name      Segment     City    State  \\\n",
              "0       AS-10045     Aaron Smayling    Corporate    Leeds  England   \n",
              "1       AS-10045     Aaron Smayling    Corporate    Leeds  England   \n",
              "2       AS-10045     Aaron Smayling    Corporate    Leeds  England   \n",
              "3       AS-10045     Aaron Smayling    Corporate    Leeds  England   \n",
              "4       AS-10045     Aaron Smayling    Corporate    Leeds  England   \n",
              "...          ...                ...          ...      ...      ...   \n",
              "9995    CC-12100    Chad Cunningham  Home Office   Rovigo   Veneto   \n",
              "9996    GB-14575  Giulietta Baptist     Consumer  Hamburg  Hamburg   \n",
              "9997    GB-14575  Giulietta Baptist     Consumer  Hamburg  Hamburg   \n",
              "9998    GB-14575  Giulietta Baptist     Consumer  Hamburg  Hamburg   \n",
              "9999    GB-14575  Giulietta Baptist     Consumer  Hamburg  Hamburg   \n",
              "\n",
              "             Country   Region       Product ID         Category Sub-Category  \\\n",
              "0     United Kingdom    North  OFF-ST-10000988  Office Supplies      Storage   \n",
              "1     United Kingdom    North  TEC-AC-10004144       Technology  Accessories   \n",
              "2     United Kingdom    North  OFF-LA-10001915  Office Supplies       Labels   \n",
              "3     United Kingdom    North  OFF-ST-10004550  Office Supplies      Storage   \n",
              "4     United Kingdom    North  TEC-AC-10004068       Technology  Accessories   \n",
              "...              ...      ...              ...              ...          ...   \n",
              "9995           Italy    South  OFF-BI-10000346  Office Supplies      Binders   \n",
              "9996         Germany  Central  OFF-BI-10002083  Office Supplies      Binders   \n",
              "9997         Germany  Central  OFF-SU-10003211  Office Supplies     Supplies   \n",
              "9998         Germany  Central  TEC-PH-10001664       Technology       Phones   \n",
              "9999         Germany  Central  OFF-AR-10001228  Office Supplies          Art   \n",
              "\n",
              "                                    Product Name   Sales  Quantity  Discount  \\\n",
              "0                         Fellowes Folders, Blue   79.20       3.0       0.0   \n",
              "1              SanDisk Numeric Keypad, Bluetooth  388.92       7.0       0.0   \n",
              "2     Avery Legal Exhibit Labels, 5000 Label Set   35.19       3.0       0.0   \n",
              "3                   Fellowes Folders, Wire Frame   50.94       2.0       0.0   \n",
              "4                       Memorex Memory Card, USB  307.44       3.0       0.0   \n",
              "...                                          ...     ...       ...       ...   \n",
              "9995                   Ibico 3-Hole Punch, Clear   59.82       2.0       0.0   \n",
              "9996           Acco Hole Reinforcements, Economy    6.66       1.0       0.0   \n",
              "9997                           Acme Ruler, Steel   96.66       6.0       0.0   \n",
              "9998             Motorola Office Telephone, VoIP  502.95       7.0       0.0   \n",
              "9999                Stanley Markers, Water Color  152.28       6.0       0.0   \n",
              "\n",
              "      Profit  \n",
              "0      39.60  \n",
              "1       0.00  \n",
              "2      16.11  \n",
              "3      13.20  \n",
              "4      73.71  \n",
              "...      ...  \n",
              "9995   23.88  \n",
              "9996    0.57  \n",
              "9997   28.98  \n",
              "9998  221.13  \n",
              "9999   50.22  \n",
              "\n",
              "[10000 rows x 20 columns]"
            ],
            "text/html": [
              "\n",
              "  <div id=\"df-34cbab20-3526-4871-b2e4-1b29add83e08\">\n",
              "    <div class=\"colab-df-container\">\n",
              "      <div>\n",
              "<style scoped>\n",
              "    .dataframe tbody tr th:only-of-type {\n",
              "        vertical-align: middle;\n",
              "    }\n",
              "\n",
              "    .dataframe tbody tr th {\n",
              "        vertical-align: top;\n",
              "    }\n",
              "\n",
              "    .dataframe thead th {\n",
              "        text-align: right;\n",
              "    }\n",
              "</style>\n",
              "<table border=\"1\" class=\"dataframe\">\n",
              "  <thead>\n",
              "    <tr style=\"text-align: right;\">\n",
              "      <th></th>\n",
              "      <th>Row ID</th>\n",
              "      <th>Order ID</th>\n",
              "      <th>Order Date</th>\n",
              "      <th>Ship Date</th>\n",
              "      <th>Ship Mode</th>\n",
              "      <th>Customer ID</th>\n",
              "      <th>Customer Name</th>\n",
              "      <th>Segment</th>\n",
              "      <th>City</th>\n",
              "      <th>State</th>\n",
              "      <th>Country</th>\n",
              "      <th>Region</th>\n",
              "      <th>Product ID</th>\n",
              "      <th>Category</th>\n",
              "      <th>Sub-Category</th>\n",
              "      <th>Product Name</th>\n",
              "      <th>Sales</th>\n",
              "      <th>Quantity</th>\n",
              "      <th>Discount</th>\n",
              "      <th>Profit</th>\n",
              "    </tr>\n",
              "  </thead>\n",
              "  <tbody>\n",
              "    <tr>\n",
              "      <th>0</th>\n",
              "      <td>1.0</td>\n",
              "      <td>ES-2018-1311038</td>\n",
              "      <td>2018-02-07</td>\n",
              "      <td>2018-02-11</td>\n",
              "      <td>Standard Class</td>\n",
              "      <td>AS-10045</td>\n",
              "      <td>Aaron Smayling</td>\n",
              "      <td>Corporate</td>\n",
              "      <td>Leeds</td>\n",
              "      <td>England</td>\n",
              "      <td>United Kingdom</td>\n",
              "      <td>North</td>\n",
              "      <td>OFF-ST-10000988</td>\n",
              "      <td>Office Supplies</td>\n",
              "      <td>Storage</td>\n",
              "      <td>Fellowes Folders, Blue</td>\n",
              "      <td>79.20</td>\n",
              "      <td>3.0</td>\n",
              "      <td>0.0</td>\n",
              "      <td>39.60</td>\n",
              "    </tr>\n",
              "    <tr>\n",
              "      <th>1</th>\n",
              "      <td>2.0</td>\n",
              "      <td>ES-2018-1311038</td>\n",
              "      <td>2018-02-07</td>\n",
              "      <td>2018-02-11</td>\n",
              "      <td>Standard Class</td>\n",
              "      <td>AS-10045</td>\n",
              "      <td>Aaron Smayling</td>\n",
              "      <td>Corporate</td>\n",
              "      <td>Leeds</td>\n",
              "      <td>England</td>\n",
              "      <td>United Kingdom</td>\n",
              "      <td>North</td>\n",
              "      <td>TEC-AC-10004144</td>\n",
              "      <td>Technology</td>\n",
              "      <td>Accessories</td>\n",
              "      <td>SanDisk Numeric Keypad, Bluetooth</td>\n",
              "      <td>388.92</td>\n",
              "      <td>7.0</td>\n",
              "      <td>0.0</td>\n",
              "      <td>0.00</td>\n",
              "    </tr>\n",
              "    <tr>\n",
              "      <th>2</th>\n",
              "      <td>3.0</td>\n",
              "      <td>ES-2018-1311038</td>\n",
              "      <td>2018-02-07</td>\n",
              "      <td>2018-02-11</td>\n",
              "      <td>Standard Class</td>\n",
              "      <td>AS-10045</td>\n",
              "      <td>Aaron Smayling</td>\n",
              "      <td>Corporate</td>\n",
              "      <td>Leeds</td>\n",
              "      <td>England</td>\n",
              "      <td>United Kingdom</td>\n",
              "      <td>North</td>\n",
              "      <td>OFF-LA-10001915</td>\n",
              "      <td>Office Supplies</td>\n",
              "      <td>Labels</td>\n",
              "      <td>Avery Legal Exhibit Labels, 5000 Label Set</td>\n",
              "      <td>35.19</td>\n",
              "      <td>3.0</td>\n",
              "      <td>0.0</td>\n",
              "      <td>16.11</td>\n",
              "    </tr>\n",
              "    <tr>\n",
              "      <th>3</th>\n",
              "      <td>4.0</td>\n",
              "      <td>ES-2018-1311038</td>\n",
              "      <td>2018-02-07</td>\n",
              "      <td>2018-02-11</td>\n",
              "      <td>Standard Class</td>\n",
              "      <td>AS-10045</td>\n",
              "      <td>Aaron Smayling</td>\n",
              "      <td>Corporate</td>\n",
              "      <td>Leeds</td>\n",
              "      <td>England</td>\n",
              "      <td>United Kingdom</td>\n",
              "      <td>North</td>\n",
              "      <td>OFF-ST-10004550</td>\n",
              "      <td>Office Supplies</td>\n",
              "      <td>Storage</td>\n",
              "      <td>Fellowes Folders, Wire Frame</td>\n",
              "      <td>50.94</td>\n",
              "      <td>2.0</td>\n",
              "      <td>0.0</td>\n",
              "      <td>13.20</td>\n",
              "    </tr>\n",
              "    <tr>\n",
              "      <th>4</th>\n",
              "      <td>5.0</td>\n",
              "      <td>ES-2018-1311038</td>\n",
              "      <td>2018-02-07</td>\n",
              "      <td>2018-02-11</td>\n",
              "      <td>Standard Class</td>\n",
              "      <td>AS-10045</td>\n",
              "      <td>Aaron Smayling</td>\n",
              "      <td>Corporate</td>\n",
              "      <td>Leeds</td>\n",
              "      <td>England</td>\n",
              "      <td>United Kingdom</td>\n",
              "      <td>North</td>\n",
              "      <td>TEC-AC-10004068</td>\n",
              "      <td>Technology</td>\n",
              "      <td>Accessories</td>\n",
              "      <td>Memorex Memory Card, USB</td>\n",
              "      <td>307.44</td>\n",
              "      <td>3.0</td>\n",
              "      <td>0.0</td>\n",
              "      <td>73.71</td>\n",
              "    </tr>\n",
              "    <tr>\n",
              "      <th>...</th>\n",
              "      <td>...</td>\n",
              "      <td>...</td>\n",
              "      <td>...</td>\n",
              "      <td>...</td>\n",
              "      <td>...</td>\n",
              "      <td>...</td>\n",
              "      <td>...</td>\n",
              "      <td>...</td>\n",
              "      <td>...</td>\n",
              "      <td>...</td>\n",
              "      <td>...</td>\n",
              "      <td>...</td>\n",
              "      <td>...</td>\n",
              "      <td>...</td>\n",
              "      <td>...</td>\n",
              "      <td>...</td>\n",
              "      <td>...</td>\n",
              "      <td>...</td>\n",
              "      <td>...</td>\n",
              "      <td>...</td>\n",
              "    </tr>\n",
              "    <tr>\n",
              "      <th>9995</th>\n",
              "      <td>9996.0</td>\n",
              "      <td>ES-2015-3780358</td>\n",
              "      <td>2015-11-16</td>\n",
              "      <td>2015-11-19</td>\n",
              "      <td>First Class</td>\n",
              "      <td>CC-12100</td>\n",
              "      <td>Chad Cunningham</td>\n",
              "      <td>Home Office</td>\n",
              "      <td>Rovigo</td>\n",
              "      <td>Veneto</td>\n",
              "      <td>Italy</td>\n",
              "      <td>South</td>\n",
              "      <td>OFF-BI-10000346</td>\n",
              "      <td>Office Supplies</td>\n",
              "      <td>Binders</td>\n",
              "      <td>Ibico 3-Hole Punch, Clear</td>\n",
              "      <td>59.82</td>\n",
              "      <td>2.0</td>\n",
              "      <td>0.0</td>\n",
              "      <td>23.88</td>\n",
              "    </tr>\n",
              "    <tr>\n",
              "      <th>9996</th>\n",
              "      <td>9997.0</td>\n",
              "      <td>ES-2016-5371207</td>\n",
              "      <td>2016-01-25</td>\n",
              "      <td>2016-01-29</td>\n",
              "      <td>Standard Class</td>\n",
              "      <td>GB-14575</td>\n",
              "      <td>Giulietta Baptist</td>\n",
              "      <td>Consumer</td>\n",
              "      <td>Hamburg</td>\n",
              "      <td>Hamburg</td>\n",
              "      <td>Germany</td>\n",
              "      <td>Central</td>\n",
              "      <td>OFF-BI-10002083</td>\n",
              "      <td>Office Supplies</td>\n",
              "      <td>Binders</td>\n",
              "      <td>Acco Hole Reinforcements, Economy</td>\n",
              "      <td>6.66</td>\n",
              "      <td>1.0</td>\n",
              "      <td>0.0</td>\n",
              "      <td>0.57</td>\n",
              "    </tr>\n",
              "    <tr>\n",
              "      <th>9997</th>\n",
              "      <td>9998.0</td>\n",
              "      <td>ES-2016-5371207</td>\n",
              "      <td>2016-01-25</td>\n",
              "      <td>2016-01-29</td>\n",
              "      <td>Standard Class</td>\n",
              "      <td>GB-14575</td>\n",
              "      <td>Giulietta Baptist</td>\n",
              "      <td>Consumer</td>\n",
              "      <td>Hamburg</td>\n",
              "      <td>Hamburg</td>\n",
              "      <td>Germany</td>\n",
              "      <td>Central</td>\n",
              "      <td>OFF-SU-10003211</td>\n",
              "      <td>Office Supplies</td>\n",
              "      <td>Supplies</td>\n",
              "      <td>Acme Ruler, Steel</td>\n",
              "      <td>96.66</td>\n",
              "      <td>6.0</td>\n",
              "      <td>0.0</td>\n",
              "      <td>28.98</td>\n",
              "    </tr>\n",
              "    <tr>\n",
              "      <th>9998</th>\n",
              "      <td>9999.0</td>\n",
              "      <td>ES-2016-5371207</td>\n",
              "      <td>2016-01-25</td>\n",
              "      <td>2016-01-29</td>\n",
              "      <td>Standard Class</td>\n",
              "      <td>GB-14575</td>\n",
              "      <td>Giulietta Baptist</td>\n",
              "      <td>Consumer</td>\n",
              "      <td>Hamburg</td>\n",
              "      <td>Hamburg</td>\n",
              "      <td>Germany</td>\n",
              "      <td>Central</td>\n",
              "      <td>TEC-PH-10001664</td>\n",
              "      <td>Technology</td>\n",
              "      <td>Phones</td>\n",
              "      <td>Motorola Office Telephone, VoIP</td>\n",
              "      <td>502.95</td>\n",
              "      <td>7.0</td>\n",
              "      <td>0.0</td>\n",
              "      <td>221.13</td>\n",
              "    </tr>\n",
              "    <tr>\n",
              "      <th>9999</th>\n",
              "      <td>10000.0</td>\n",
              "      <td>ES-2016-5371207</td>\n",
              "      <td>2016-01-25</td>\n",
              "      <td>2016-01-29</td>\n",
              "      <td>Standard Class</td>\n",
              "      <td>GB-14575</td>\n",
              "      <td>Giulietta Baptist</td>\n",
              "      <td>Consumer</td>\n",
              "      <td>Hamburg</td>\n",
              "      <td>Hamburg</td>\n",
              "      <td>Germany</td>\n",
              "      <td>Central</td>\n",
              "      <td>OFF-AR-10001228</td>\n",
              "      <td>Office Supplies</td>\n",
              "      <td>Art</td>\n",
              "      <td>Stanley Markers, Water Color</td>\n",
              "      <td>152.28</td>\n",
              "      <td>6.0</td>\n",
              "      <td>0.0</td>\n",
              "      <td>50.22</td>\n",
              "    </tr>\n",
              "  </tbody>\n",
              "</table>\n",
              "<p>10000 rows × 20 columns</p>\n",
              "</div>\n",
              "      <button class=\"colab-df-convert\" onclick=\"convertToInteractive('df-34cbab20-3526-4871-b2e4-1b29add83e08')\"\n",
              "              title=\"Convert this dataframe to an interactive table.\"\n",
              "              style=\"display:none;\">\n",
              "        \n",
              "  <svg xmlns=\"http://www.w3.org/2000/svg\" height=\"24px\"viewBox=\"0 0 24 24\"\n",
              "       width=\"24px\">\n",
              "    <path d=\"M0 0h24v24H0V0z\" fill=\"none\"/>\n",
              "    <path d=\"M18.56 5.44l.94 2.06.94-2.06 2.06-.94-2.06-.94-.94-2.06-.94 2.06-2.06.94zm-11 1L8.5 8.5l.94-2.06 2.06-.94-2.06-.94L8.5 2.5l-.94 2.06-2.06.94zm10 10l.94 2.06.94-2.06 2.06-.94-2.06-.94-.94-2.06-.94 2.06-2.06.94z\"/><path d=\"M17.41 7.96l-1.37-1.37c-.4-.4-.92-.59-1.43-.59-.52 0-1.04.2-1.43.59L10.3 9.45l-7.72 7.72c-.78.78-.78 2.05 0 2.83L4 21.41c.39.39.9.59 1.41.59.51 0 1.02-.2 1.41-.59l7.78-7.78 2.81-2.81c.8-.78.8-2.07 0-2.86zM5.41 20L4 18.59l7.72-7.72 1.47 1.35L5.41 20z\"/>\n",
              "  </svg>\n",
              "      </button>\n",
              "      \n",
              "  <style>\n",
              "    .colab-df-container {\n",
              "      display:flex;\n",
              "      flex-wrap:wrap;\n",
              "      gap: 12px;\n",
              "    }\n",
              "\n",
              "    .colab-df-convert {\n",
              "      background-color: #E8F0FE;\n",
              "      border: none;\n",
              "      border-radius: 50%;\n",
              "      cursor: pointer;\n",
              "      display: none;\n",
              "      fill: #1967D2;\n",
              "      height: 32px;\n",
              "      padding: 0 0 0 0;\n",
              "      width: 32px;\n",
              "    }\n",
              "\n",
              "    .colab-df-convert:hover {\n",
              "      background-color: #E2EBFA;\n",
              "      box-shadow: 0px 1px 2px rgba(60, 64, 67, 0.3), 0px 1px 3px 1px rgba(60, 64, 67, 0.15);\n",
              "      fill: #174EA6;\n",
              "    }\n",
              "\n",
              "    [theme=dark] .colab-df-convert {\n",
              "      background-color: #3B4455;\n",
              "      fill: #D2E3FC;\n",
              "    }\n",
              "\n",
              "    [theme=dark] .colab-df-convert:hover {\n",
              "      background-color: #434B5C;\n",
              "      box-shadow: 0px 1px 3px 1px rgba(0, 0, 0, 0.15);\n",
              "      filter: drop-shadow(0px 1px 2px rgba(0, 0, 0, 0.3));\n",
              "      fill: #FFFFFF;\n",
              "    }\n",
              "  </style>\n",
              "\n",
              "      <script>\n",
              "        const buttonEl =\n",
              "          document.querySelector('#df-34cbab20-3526-4871-b2e4-1b29add83e08 button.colab-df-convert');\n",
              "        buttonEl.style.display =\n",
              "          google.colab.kernel.accessAllowed ? 'block' : 'none';\n",
              "\n",
              "        async function convertToInteractive(key) {\n",
              "          const element = document.querySelector('#df-34cbab20-3526-4871-b2e4-1b29add83e08');\n",
              "          const dataTable =\n",
              "            await google.colab.kernel.invokeFunction('convertToInteractive',\n",
              "                                                     [key], {});\n",
              "          if (!dataTable) return;\n",
              "\n",
              "          const docLinkHtml = 'Like what you see? Visit the ' +\n",
              "            '<a target=\"_blank\" href=https://colab.research.google.com/notebooks/data_table.ipynb>data table notebook</a>'\n",
              "            + ' to learn more about interactive tables.';\n",
              "          element.innerHTML = '';\n",
              "          dataTable['output_type'] = 'display_data';\n",
              "          await google.colab.output.renderOutput(dataTable, element);\n",
              "          const docLink = document.createElement('div');\n",
              "          docLink.innerHTML = docLinkHtml;\n",
              "          element.appendChild(docLink);\n",
              "        }\n",
              "      </script>\n",
              "    </div>\n",
              "  </div>\n",
              "  "
            ]
          },
          "metadata": {},
          "execution_count": 53
        }
      ]
    },
    {
      "cell_type": "code",
      "source": [
        "# label encoder for ship mode\n",
        "le = LabelEncoder()"
      ],
      "metadata": {
        "id": "pYDV4cBrpj4h"
      },
      "execution_count": null,
      "outputs": []
    },
    {
      "cell_type": "code",
      "source": [
        "le.fit(data['Ship Mode'])"
      ],
      "metadata": {
        "colab": {
          "base_uri": "https://localhost:8080/"
        },
        "id": "eIbE-ZmHp1tg",
        "outputId": "f335102b-c79d-43e6-b27f-21bde571aa92"
      },
      "execution_count": null,
      "outputs": [
        {
          "output_type": "execute_result",
          "data": {
            "text/plain": [
              "LabelEncoder()"
            ]
          },
          "metadata": {},
          "execution_count": 55
        }
      ]
    },
    {
      "cell_type": "code",
      "source": [
        "data['ship_mode_encoded'] = le.transform(data['Ship Mode'])"
      ],
      "metadata": {
        "id": "kuIZvvCZp6Q8"
      },
      "execution_count": null,
      "outputs": []
    },
    {
      "cell_type": "code",
      "source": [
        "data[['Ship Mode','ship_mode_encoded']]"
      ],
      "metadata": {
        "colab": {
          "base_uri": "https://localhost:8080/",
          "height": 424
        },
        "id": "PLPoQf1FqDr9",
        "outputId": "00dadb3d-be1a-440a-c765-52982b5acb88"
      },
      "execution_count": null,
      "outputs": [
        {
          "output_type": "execute_result",
          "data": {
            "text/plain": [
              "           Ship Mode  ship_mode_encoded\n",
              "0     Standard Class                  3\n",
              "1     Standard Class                  3\n",
              "2     Standard Class                  3\n",
              "3     Standard Class                  3\n",
              "4     Standard Class                  3\n",
              "...              ...                ...\n",
              "9995     First Class                  0\n",
              "9996  Standard Class                  3\n",
              "9997  Standard Class                  3\n",
              "9998  Standard Class                  3\n",
              "9999  Standard Class                  3\n",
              "\n",
              "[10000 rows x 2 columns]"
            ],
            "text/html": [
              "\n",
              "  <div id=\"df-b2dad556-a2fe-4ffb-9fe0-13b2af33c30e\">\n",
              "    <div class=\"colab-df-container\">\n",
              "      <div>\n",
              "<style scoped>\n",
              "    .dataframe tbody tr th:only-of-type {\n",
              "        vertical-align: middle;\n",
              "    }\n",
              "\n",
              "    .dataframe tbody tr th {\n",
              "        vertical-align: top;\n",
              "    }\n",
              "\n",
              "    .dataframe thead th {\n",
              "        text-align: right;\n",
              "    }\n",
              "</style>\n",
              "<table border=\"1\" class=\"dataframe\">\n",
              "  <thead>\n",
              "    <tr style=\"text-align: right;\">\n",
              "      <th></th>\n",
              "      <th>Ship Mode</th>\n",
              "      <th>ship_mode_encoded</th>\n",
              "    </tr>\n",
              "  </thead>\n",
              "  <tbody>\n",
              "    <tr>\n",
              "      <th>0</th>\n",
              "      <td>Standard Class</td>\n",
              "      <td>3</td>\n",
              "    </tr>\n",
              "    <tr>\n",
              "      <th>1</th>\n",
              "      <td>Standard Class</td>\n",
              "      <td>3</td>\n",
              "    </tr>\n",
              "    <tr>\n",
              "      <th>2</th>\n",
              "      <td>Standard Class</td>\n",
              "      <td>3</td>\n",
              "    </tr>\n",
              "    <tr>\n",
              "      <th>3</th>\n",
              "      <td>Standard Class</td>\n",
              "      <td>3</td>\n",
              "    </tr>\n",
              "    <tr>\n",
              "      <th>4</th>\n",
              "      <td>Standard Class</td>\n",
              "      <td>3</td>\n",
              "    </tr>\n",
              "    <tr>\n",
              "      <th>...</th>\n",
              "      <td>...</td>\n",
              "      <td>...</td>\n",
              "    </tr>\n",
              "    <tr>\n",
              "      <th>9995</th>\n",
              "      <td>First Class</td>\n",
              "      <td>0</td>\n",
              "    </tr>\n",
              "    <tr>\n",
              "      <th>9996</th>\n",
              "      <td>Standard Class</td>\n",
              "      <td>3</td>\n",
              "    </tr>\n",
              "    <tr>\n",
              "      <th>9997</th>\n",
              "      <td>Standard Class</td>\n",
              "      <td>3</td>\n",
              "    </tr>\n",
              "    <tr>\n",
              "      <th>9998</th>\n",
              "      <td>Standard Class</td>\n",
              "      <td>3</td>\n",
              "    </tr>\n",
              "    <tr>\n",
              "      <th>9999</th>\n",
              "      <td>Standard Class</td>\n",
              "      <td>3</td>\n",
              "    </tr>\n",
              "  </tbody>\n",
              "</table>\n",
              "<p>10000 rows × 2 columns</p>\n",
              "</div>\n",
              "      <button class=\"colab-df-convert\" onclick=\"convertToInteractive('df-b2dad556-a2fe-4ffb-9fe0-13b2af33c30e')\"\n",
              "              title=\"Convert this dataframe to an interactive table.\"\n",
              "              style=\"display:none;\">\n",
              "        \n",
              "  <svg xmlns=\"http://www.w3.org/2000/svg\" height=\"24px\"viewBox=\"0 0 24 24\"\n",
              "       width=\"24px\">\n",
              "    <path d=\"M0 0h24v24H0V0z\" fill=\"none\"/>\n",
              "    <path d=\"M18.56 5.44l.94 2.06.94-2.06 2.06-.94-2.06-.94-.94-2.06-.94 2.06-2.06.94zm-11 1L8.5 8.5l.94-2.06 2.06-.94-2.06-.94L8.5 2.5l-.94 2.06-2.06.94zm10 10l.94 2.06.94-2.06 2.06-.94-2.06-.94-.94-2.06-.94 2.06-2.06.94z\"/><path d=\"M17.41 7.96l-1.37-1.37c-.4-.4-.92-.59-1.43-.59-.52 0-1.04.2-1.43.59L10.3 9.45l-7.72 7.72c-.78.78-.78 2.05 0 2.83L4 21.41c.39.39.9.59 1.41.59.51 0 1.02-.2 1.41-.59l7.78-7.78 2.81-2.81c.8-.78.8-2.07 0-2.86zM5.41 20L4 18.59l7.72-7.72 1.47 1.35L5.41 20z\"/>\n",
              "  </svg>\n",
              "      </button>\n",
              "      \n",
              "  <style>\n",
              "    .colab-df-container {\n",
              "      display:flex;\n",
              "      flex-wrap:wrap;\n",
              "      gap: 12px;\n",
              "    }\n",
              "\n",
              "    .colab-df-convert {\n",
              "      background-color: #E8F0FE;\n",
              "      border: none;\n",
              "      border-radius: 50%;\n",
              "      cursor: pointer;\n",
              "      display: none;\n",
              "      fill: #1967D2;\n",
              "      height: 32px;\n",
              "      padding: 0 0 0 0;\n",
              "      width: 32px;\n",
              "    }\n",
              "\n",
              "    .colab-df-convert:hover {\n",
              "      background-color: #E2EBFA;\n",
              "      box-shadow: 0px 1px 2px rgba(60, 64, 67, 0.3), 0px 1px 3px 1px rgba(60, 64, 67, 0.15);\n",
              "      fill: #174EA6;\n",
              "    }\n",
              "\n",
              "    [theme=dark] .colab-df-convert {\n",
              "      background-color: #3B4455;\n",
              "      fill: #D2E3FC;\n",
              "    }\n",
              "\n",
              "    [theme=dark] .colab-df-convert:hover {\n",
              "      background-color: #434B5C;\n",
              "      box-shadow: 0px 1px 3px 1px rgba(0, 0, 0, 0.15);\n",
              "      filter: drop-shadow(0px 1px 2px rgba(0, 0, 0, 0.3));\n",
              "      fill: #FFFFFF;\n",
              "    }\n",
              "  </style>\n",
              "\n",
              "      <script>\n",
              "        const buttonEl =\n",
              "          document.querySelector('#df-b2dad556-a2fe-4ffb-9fe0-13b2af33c30e button.colab-df-convert');\n",
              "        buttonEl.style.display =\n",
              "          google.colab.kernel.accessAllowed ? 'block' : 'none';\n",
              "\n",
              "        async function convertToInteractive(key) {\n",
              "          const element = document.querySelector('#df-b2dad556-a2fe-4ffb-9fe0-13b2af33c30e');\n",
              "          const dataTable =\n",
              "            await google.colab.kernel.invokeFunction('convertToInteractive',\n",
              "                                                     [key], {});\n",
              "          if (!dataTable) return;\n",
              "\n",
              "          const docLinkHtml = 'Like what you see? Visit the ' +\n",
              "            '<a target=\"_blank\" href=https://colab.research.google.com/notebooks/data_table.ipynb>data table notebook</a>'\n",
              "            + ' to learn more about interactive tables.';\n",
              "          element.innerHTML = '';\n",
              "          dataTable['output_type'] = 'display_data';\n",
              "          await google.colab.output.renderOutput(dataTable, element);\n",
              "          const docLink = document.createElement('div');\n",
              "          docLink.innerHTML = docLinkHtml;\n",
              "          element.appendChild(docLink);\n",
              "        }\n",
              "      </script>\n",
              "    </div>\n",
              "  </div>\n",
              "  "
            ]
          },
          "metadata": {},
          "execution_count": 58
        }
      ]
    },
    {
      "cell_type": "code",
      "source": [],
      "metadata": {
        "id": "ndTPwxn6qFF9"
      },
      "execution_count": null,
      "outputs": []
    }
  ]
}