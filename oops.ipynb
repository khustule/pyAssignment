{
  "nbformat": 4,
  "nbformat_minor": 0,
  "metadata": {
    "colab": {
      "name": "Untitled1.ipynb",
      "provenance": [],
      "collapsed_sections": [],
      "authorship_tag": "ABX9TyPo9hkryfosBATJp9ArMzI7",
      "include_colab_link": true
    },
    "kernelspec": {
      "name": "python3",
      "display_name": "Python 3"
    },
    "language_info": {
      "name": "python"
    }
  },
  "cells": [
    {
      "cell_type": "markdown",
      "metadata": {
        "id": "view-in-github",
        "colab_type": "text"
      },
      "source": [
        "<a href=\"https://colab.research.google.com/github/khustule/pyAssignment/blob/main/oops.ipynb\" target=\"_parent\"><img src=\"https://colab.research.google.com/assets/colab-badge.svg\" alt=\"Open In Colab\"/></a>"
      ]
    },
    {
      "cell_type": "code",
      "execution_count": 2,
      "metadata": {
        "id": "Cq2VrhPpzVmy"
      },
      "outputs": [],
      "source": [
        "def calculator():\n",
        "  a = float(input(\"Enter First value:\"))\n",
        "  b = float(input(\"Enter Second Value\"))\n",
        "  print(\"what is your choice - +,-,/,*\")\n",
        "  "
      ]
    },
    {
      "cell_type": "code",
      "source": [
        "55.5\n",
        "562.2\n",
        "\n"
      ],
      "metadata": {
        "colab": {
          "base_uri": "https://localhost:8080/"
        },
        "id": "oANQwI5Y9nLy",
        "outputId": "e9051998-fa74-44ff-cca7-a3d0793e0b1a"
      },
      "execution_count": 5,
      "outputs": [
        {
          "output_type": "execute_result",
          "data": {
            "text/plain": [
              "562.2"
            ]
          },
          "metadata": {},
          "execution_count": 5
        }
      ]
    },
    {
      "cell_type": "code",
      "source": [
        "def Area():\n",
        "  base = float(input('Enter BAse VAlue:'))\n",
        "  height = float(input('Enter Height value:'))\n",
        "  Area = 0.5*base*height\n",
        "  print(Area)"
      ],
      "metadata": {
        "id": "Lkn8B5LR95Qa"
      },
      "execution_count": 9,
      "outputs": []
    },
    {
      "cell_type": "code",
      "source": [
        "Area()"
      ],
      "metadata": {
        "colab": {
          "base_uri": "https://localhost:8080/"
        },
        "id": "wpkc5RfI_tUE",
        "outputId": "c6501699-0249-45be-d56c-3c135d352096"
      },
      "execution_count": 10,
      "outputs": [
        {
          "output_type": "stream",
          "name": "stdout",
          "text": [
            "Enter BAse VAlue:45\n",
            "Enter Height value:63\n",
            "1417.5\n"
          ]
        }
      ]
    },
    {
      "cell_type": "code",
      "source": [
        "  def Areacalc():\n",
        "    shape=input(\"what is your shape?\")\n",
        "    if (shape==\"S\"):\n",
        "      print(\"Its a Square! Now enter dimensions!\")\n",
        "      side=float(input(\"Enter Side:- \"))\n",
        "      print(side*side)\n",
        "    elif (shape==\"C\"):\n",
        "      print(\"Its a Circle! Now enter the dimensions!\")\n",
        "      radius=float(input(\"Enter the raidus:-\"))\n",
        "      print(3.14*radius**2)\n",
        "    elif (shape==\"T\"):\n",
        "      print(\"Its a Triangle! Now enter the dimensions!\")\n",
        "      base=float(input(\"Enter the base value:-\"))\n",
        "      height=float(input(\"Enter the height value:-\"))\n",
        "      print(0.5*base*height)\n",
        "    elif (shape==\"R\"):\n",
        "      print(\"Its a Rectangle! Now enter the dimensions!\")\n",
        "      length=float(input(\"Enter the length value:-\"))\n",
        "      breadth=float(input(\"Enter the breadth value:-\"))\n",
        "      print(lentgh*breadth)\n",
        "    else:\n",
        "      print(\"Enter Valid Input:\")\n",
        "      \n",
        "          "
      ],
      "metadata": {
        "id": "whitJFxAAZma"
      },
      "execution_count": 37,
      "outputs": []
    },
    {
      "cell_type": "code",
      "source": [
        "Areacalc()"
      ],
      "metadata": {
        "colab": {
          "base_uri": "https://localhost:8080/"
        },
        "id": "Ntk2I-8hDRxt",
        "outputId": "652478a9-ba0f-4f6f-c23c-42727c7d66b1"
      },
      "execution_count": 38,
      "outputs": [
        {
          "output_type": "stream",
          "name": "stdout",
          "text": [
            "what is your shape?Z\n",
            "Enter Valid Input:\n"
          ]
        }
      ]
    },
    {
      "cell_type": "code",
      "source": [
        "Areacalc()"
      ],
      "metadata": {
        "colab": {
          "base_uri": "https://localhost:8080/"
        },
        "id": "Flsi7FMlNWNR",
        "outputId": "91d447dd-e7d7-488b-8f50-1383ab298914"
      },
      "execution_count": 34,
      "outputs": [
        {
          "output_type": "stream",
          "name": "stdout",
          "text": [
            "what is your shape?C\n",
            "Its a Circle! Now enter the dimensions!\n",
            "Enter the raidus:-24\n",
            "1808.64\n"
          ]
        }
      ]
    },
    {
      "cell_type": "code",
      "source": [
        "Areacalc()"
      ],
      "metadata": {
        "colab": {
          "base_uri": "https://localhost:8080/"
        },
        "id": "CeOJQuZBNdlj",
        "outputId": "02c70829-58e2-4d45-88ac-248f0a498de3"
      },
      "execution_count": 36,
      "outputs": [
        {
          "output_type": "stream",
          "name": "stdout",
          "text": [
            "what is your shape?T\n",
            "Its a Triangle! Now enter the dimensions!\n",
            "Enter the base value:-15\n",
            "Enter the height value:-65\n",
            "487.5\n"
          ]
        }
      ]
    },
    {
      "cell_type": "code",
      "source": [
        "def tejas():\n",
        "  Shape = input(\"What is your shape\")\n",
        "  if(Shape == \"t\"):\n",
        "    print(\"Its Trangle!!! NoW enter value\")\n",
        "    base=float(input('Enter Base value:'))\n",
        "    height=float(input('Enter height value:'))\n",
        "    print(0.5*base*height)\n",
        "  elif(Shape==\"s\"):\n",
        "    print(\"its squre!!! now enter value\")\n",
        "    base=float(input(\"Enter base value\"))\n",
        "    print(base**2)\n",
        "  elif(Shape==\"c\"):\n",
        "    print(\"its circule!!! now enter value\")\n",
        "    dia=float(input(\"Enter diameter value\"))\n",
        "    print(3.14/4*dia)\n",
        "  else:\n",
        "    print('enter correct value')\n",
        "    \n"
      ],
      "metadata": {
        "id": "_616Nwg_N5yu"
      },
      "execution_count": 46,
      "outputs": []
    },
    {
      "cell_type": "code",
      "source": [
        "tejas()"
      ],
      "metadata": {
        "colab": {
          "base_uri": "https://localhost:8080/"
        },
        "id": "GTOuCaUMSRw9",
        "outputId": "b9563c61-ac04-4109-d2fc-ca27063eaafc"
      },
      "execution_count": 47,
      "outputs": [
        {
          "output_type": "stream",
          "name": "stdout",
          "text": [
            "What is your shapec\n",
            "its circule!!! now enter value\n",
            "Enter diameter value2\n",
            "1.57\n"
          ]
        }
      ]
    },
    {
      "cell_type": "code",
      "source": [
        ""
      ],
      "metadata": {
        "id": "E-FX_sqQSUTD"
      },
      "execution_count": null,
      "outputs": []
    }
  ]
}