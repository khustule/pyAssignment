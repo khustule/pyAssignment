{
  "nbformat": 4,
  "nbformat_minor": 0,
  "metadata": {
    "colab": {
      "provenance": [],
      "authorship_tag": "ABX9TyMh3KSwBeR48r+FjdK+a18g",
      "include_colab_link": true
    },
    "kernelspec": {
      "name": "python3",
      "display_name": "Python 3"
    },
    "language_info": {
      "name": "python"
    }
  },
  "cells": [
    {
      "cell_type": "markdown",
      "metadata": {
        "id": "view-in-github",
        "colab_type": "text"
      },
      "source": [
        "<a href=\"https://colab.research.google.com/github/khustule/pyAssignment/blob/main/Untitled7.ipynb\" target=\"_parent\"><img src=\"https://colab.research.google.com/assets/colab-badge.svg\" alt=\"Open In Colab\"/></a>"
      ]
    },
    {
      "cell_type": "code",
      "source": [
        "import numpy as np"
      ],
      "metadata": {
        "id": "Hh3mh0LtMnAo"
      },
      "execution_count": 2,
      "outputs": []
    },
    {
      "cell_type": "code",
      "source": [
        "import pandas as pd"
      ],
      "metadata": {
        "id": "o2BWABdVMv3g"
      },
      "execution_count": 3,
      "outputs": []
    },
    {
      "cell_type": "code",
      "source": [
        "b = np.array([[1,1],[1,5],[8,45]])"
      ],
      "metadata": {
        "id": "ROUjYsO1My66"
      },
      "execution_count": 7,
      "outputs": []
    },
    {
      "cell_type": "code",
      "source": [
        "print(b.shape)"
      ],
      "metadata": {
        "colab": {
          "base_uri": "https://localhost:8080/"
        },
        "id": "KEDcaToeNBnd",
        "outputId": "b26c421d-d493-4071-8f95-feb9ebbd1062"
      },
      "execution_count": 8,
      "outputs": [
        {
          "output_type": "stream",
          "name": "stdout",
          "text": [
            "(3, 2)\n"
          ]
        }
      ]
    },
    {
      "cell_type": "code",
      "source": [
        "a = np.array([[[1,5]],[[1,5]]])\n",
        "print(a.shape)"
      ],
      "metadata": {
        "colab": {
          "base_uri": "https://localhost:8080/"
        },
        "id": "eayVDSuPNIby",
        "outputId": "a2cd4a1c-9487-447b-8658-696d6af0d12d"
      },
      "execution_count": 10,
      "outputs": [
        {
          "output_type": "stream",
          "name": "stdout",
          "text": [
            "(2, 1, 2)\n"
          ]
        }
      ]
    },
    {
      "cell_type": "code",
      "source": [
        "# matrix manipulation"
      ],
      "metadata": {
        "id": "wgTXTgudOTOo"
      },
      "execution_count": 11,
      "outputs": []
    },
    {
      "cell_type": "code",
      "source": [
        "import cv2"
      ],
      "metadata": {
        "id": "oUMjredaOvw9"
      },
      "execution_count": 12,
      "outputs": []
    },
    {
      "cell_type": "code",
      "source": [
        "img = cv2.imread('IMG_1519.JPG')\n",
        "import matplotlib.pyplot as plt\n"
      ],
      "metadata": {
        "id": "aZpItwioPiMr"
      },
      "execution_count": 13,
      "outputs": []
    },
    {
      "cell_type": "code",
      "source": [
        "img.shape"
      ],
      "metadata": {
        "colab": {
          "base_uri": "https://localhost:8080/"
        },
        "id": "58wAzXX3QnTG",
        "outputId": "1de82fd1-1092-43dc-80a9-588ee8df47be"
      },
      "execution_count": 15,
      "outputs": [
        {
          "output_type": "execute_result",
          "data": {
            "text/plain": [
              "(4000, 6000, 3)"
            ]
          },
          "metadata": {},
          "execution_count": 15
        }
      ]
    },
    {
      "cell_type": "code",
      "source": [
        "#np.zero\n",
        "#np.ones\n",
        "\n",
        "\n",
        "c = np.full((5,2),9)\n",
        "print(c)"
      ],
      "metadata": {
        "colab": {
          "base_uri": "https://localhost:8080/"
        },
        "id": "pjPjomP4QpaE",
        "outputId": "d9c6c431-74fe-4ad0-aaa1-99fbd3f1368a"
      },
      "execution_count": 17,
      "outputs": [
        {
          "output_type": "stream",
          "name": "stdout",
          "text": [
            "[[9 9]\n",
            " [9 9]\n",
            " [9 9]\n",
            " [9 9]\n",
            " [9 9]]\n"
          ]
        }
      ]
    },
    {
      "cell_type": "code",
      "source": [
        "s = np.eye(5,5)\n",
        "s"
      ],
      "metadata": {
        "colab": {
          "base_uri": "https://localhost:8080/"
        },
        "id": "CWjwsKoMRK9p",
        "outputId": "8a5d27bc-0a22-4d5b-eae1-9623144ccac5"
      },
      "execution_count": 18,
      "outputs": [
        {
          "output_type": "execute_result",
          "data": {
            "text/plain": [
              "array([[1., 0., 0., 0., 0.],\n",
              "       [0., 1., 0., 0., 0.],\n",
              "       [0., 0., 1., 0., 0.],\n",
              "       [0., 0., 0., 1., 0.],\n",
              "       [0., 0., 0., 0., 1.]])"
            ]
          },
          "metadata": {},
          "execution_count": 18
        }
      ]
    },
    {
      "cell_type": "code",
      "source": [
        "d = np.random.random((3,2))\n",
        "print(d)"
      ],
      "metadata": {
        "colab": {
          "base_uri": "https://localhost:8080/"
        },
        "id": "vyLac3tfRaZz",
        "outputId": "70a41b93-5f86-4857-9ae1-70389ce18f90"
      },
      "execution_count": 20,
      "outputs": [
        {
          "output_type": "stream",
          "name": "stdout",
          "text": [
            "[[0.52086411 0.38097997]\n",
            " [0.33907046 0.23493656]\n",
            " [0.33431789 0.16620401]]\n"
          ]
        }
      ]
    },
    {
      "cell_type": "code",
      "source": [
        "a = np.array([[4,5,6,3],[1,8,6,9],[15,56,7,7]])\n",
        "a[2,2]\n",
        "c=a[1:,2:3]\n",
        "d=a[1:,2]\n",
        "print(c.shape)\n",
        "print(d.shape)"
      ],
      "metadata": {
        "colab": {
          "base_uri": "https://localhost:8080/"
        },
        "id": "7kFeHiGcR5_r",
        "outputId": "72a81381-be0a-4f1c-8a6e-b04766f6d5ec"
      },
      "execution_count": 40,
      "outputs": [
        {
          "output_type": "stream",
          "name": "stdout",
          "text": [
            "(2, 1)\n",
            "(2,)\n"
          ]
        }
      ]
    },
    {
      "cell_type": "code",
      "source": [
        "a = np.array([[4,5,6,3],[1,8,6,9],[15,56,7,7]])\n",
        "b = a[:2, 1:3]\n",
        "print(b)\n",
        "b[0,0] = 77\n",
        "print(a)"
      ],
      "metadata": {
        "colab": {
          "base_uri": "https://localhost:8080/"
        },
        "id": "l7KPaH_9SnY3",
        "outputId": "10b50e02-44ff-47f9-dee6-a28c37abb59b"
      },
      "execution_count": 41,
      "outputs": [
        {
          "output_type": "stream",
          "name": "stdout",
          "text": [
            "[[5 6]\n",
            " [8 6]]\n",
            "[[ 4 77  6  3]\n",
            " [ 1  8  6  9]\n",
            " [15 56  7  7]]\n"
          ]
        }
      ]
    },
    {
      "cell_type": "code",
      "source": [],
      "metadata": {
        "id": "PnBa8J9NWo78"
      },
      "execution_count": null,
      "outputs": []
    }
  ]
}