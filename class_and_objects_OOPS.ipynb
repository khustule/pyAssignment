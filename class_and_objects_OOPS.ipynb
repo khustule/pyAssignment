{
  "nbformat": 4,
  "nbformat_minor": 0,
  "metadata": {
    "colab": {
      "name": "class and objects - OOPS.ipynb",
      "provenance": [],
      "collapsed_sections": [],
      "authorship_tag": "ABX9TyMSDcw0oH2WLR55YWAki95W",
      "include_colab_link": true
    },
    "kernelspec": {
      "name": "python3",
      "display_name": "Python 3"
    },
    "language_info": {
      "name": "python"
    }
  },
  "cells": [
    {
      "cell_type": "markdown",
      "metadata": {
        "id": "view-in-github",
        "colab_type": "text"
      },
      "source": [
        "<a href=\"https://colab.research.google.com/github/khustule/pyAssignment/blob/main/class_and_objects_OOPS.ipynb\" target=\"_parent\"><img src=\"https://colab.research.google.com/assets/colab-badge.svg\" alt=\"Open In Colab\"/></a>"
      ]
    },
    {
      "cell_type": "code",
      "execution_count": 14,
      "metadata": {
        "id": "I58yhIqc49dt"
      },
      "outputs": [],
      "source": [
        "class heater():\n",
        "  coil=''\n",
        "  wire=''\n",
        "  pin=''\n",
        "  casing=''\n",
        "  indicator=''\n",
        "  button=''\n",
        "  metal=''\n",
        "  def set_prop(self):\n",
        "    self.coil=input(\"Enter the detail of coil\")\n",
        "    self.wire=input(\"enter the detail if wire\")\n",
        "    self.pin=input(\"Enter the detail of pin\")\n",
        "    self.casing=input(\"Enter the detail of casing\")\n",
        "    self.indicator=input(\"Enter the detail of indicator\")\n",
        "    self.button=input(\"Enter the detail of button\")\n",
        "    self.metal=input(\"Enter the detail of coil\")\n",
        "  def get_prop(self):\n",
        "    print(\"coil:\", self.coil)\n",
        "    print(\"wire:\", self.wire)\n",
        "    print(\"pin:\", self.pin)\n",
        "    print(\"casing:\", self.casing)\n",
        "    print(\"indicator:\", self.indicator)\n",
        "    print(\"button:\", self.button)\n",
        "    print(\"metal:\", self.metal)\n",
        "  def setState(self):\n",
        "    self.setState = input(\"Do you want to on or off the heater?\")\n",
        "  def getState(self):\n",
        "    print(\"the state of the heater is:\", self.setState)  \n"
      ]
    },
    {
      "cell_type": "code",
      "source": [
        "h = heater()"
      ],
      "metadata": {
        "id": "eY-OWlR4NiPZ"
      },
      "execution_count": 15,
      "outputs": []
    },
    {
      "cell_type": "code",
      "source": [
        "h.set_prop()"
      ],
      "metadata": {
        "colab": {
          "base_uri": "https://localhost:8080/"
        },
        "id": "-5WkA1qcNvQy",
        "outputId": "d4030874-47b1-442a-e041-67dfa9b6728f"
      },
      "execution_count": 16,
      "outputs": [
        {
          "name": "stdout",
          "output_type": "stream",
          "text": [
            "Enter the detail of coil5\n",
            "enter the detail if wire\n",
            "Enter the detail of pin23\n",
            "Enter the detail of casing033\n",
            "Enter the detail of indicator200\n",
            "Enter the detail of button22\n",
            "Enter the detail of coil55\n"
          ]
        }
      ]
    },
    {
      "cell_type": "code",
      "source": [
        "h.get_prop()"
      ],
      "metadata": {
        "colab": {
          "base_uri": "https://localhost:8080/"
        },
        "id": "bQ6KVfZgN0Pd",
        "outputId": "cda6dbfc-6c21-4c26-c9ab-30f72da2fc8b"
      },
      "execution_count": 17,
      "outputs": [
        {
          "output_type": "stream",
          "name": "stdout",
          "text": [
            "coil: 5\n",
            "wire: \n",
            "pin: 23\n",
            "casing: 033\n",
            "indicator: 200\n",
            "button: 22\n",
            "metal: 55\n"
          ]
        }
      ]
    },
    {
      "cell_type": "code",
      "source": [
        "h.setState()"
      ],
      "metadata": {
        "colab": {
          "base_uri": "https://localhost:8080/"
        },
        "id": "WOBOqTvuOHYQ",
        "outputId": "08f1918a-f295-4001-be03-b4bc3707e0e2"
      },
      "execution_count": 18,
      "outputs": [
        {
          "name": "stdout",
          "output_type": "stream",
          "text": [
            "Do you want to on or off the heater?yes\n"
          ]
        }
      ]
    },
    {
      "cell_type": "code",
      "source": [
        "h.getState()"
      ],
      "metadata": {
        "colab": {
          "base_uri": "https://localhost:8080/"
        },
        "id": "VPte_fuoOOaz",
        "outputId": "529b9b60-d7cd-4e8a-ba29-3ee9191a33ee"
      },
      "execution_count": 19,
      "outputs": [
        {
          "output_type": "stream",
          "name": "stdout",
          "text": [
            "the state of the heater is: yes\n"
          ]
        }
      ]
    },
    {
      "cell_type": "code",
      "source": [
        "class game():\n",
        "  player = ''\n",
        "  game_type = ''\n",
        "  no_of_player =  ''\n",
        "  def set_detail(self):\n",
        "    self.player=input(\"Enter Player Name:-  \")\n",
        "    self.game_type=input(\"Enter which game you like to play:-  \")\n",
        "    self.no_of_player=input(\"Enter No of player:-  \")\n",
        "  def get_detail(self):\n",
        "    print(\"Name:-\", self.player)\n",
        "    print(\"Game:-\", self.game_type)\n",
        "    print(\"No of player:-\", self.no_of_player)\n",
        "\n"
      ],
      "metadata": {
        "id": "EUBXKKprOUOH"
      },
      "execution_count": 28,
      "outputs": []
    },
    {
      "cell_type": "code",
      "source": [
        "g1 = game()\n",
        "g2 = game()\n",
        "g3 = game()"
      ],
      "metadata": {
        "id": "YY9keBfBPLsE"
      },
      "execution_count": 37,
      "outputs": []
    },
    {
      "cell_type": "code",
      "source": [
        "g1.set_detail()\n",
        "g2.set_detail()\n",
        "g3.set_detail()"
      ],
      "metadata": {
        "colab": {
          "base_uri": "https://localhost:8080/"
        },
        "id": "IpNAni34Q9w5",
        "outputId": "841e112f-9923-4e67-89a9-483cb6e9e0a3"
      },
      "execution_count": 38,
      "outputs": [
        {
          "name": "stdout",
          "output_type": "stream",
          "text": [
            "Enter Player Name:-  tejas\n",
            "Enter which game you like to play:-  4\n",
            "Enter No of player:-  5\n",
            "Enter Player Name:-  pranav\n",
            "Enter which game you like to play:-  a\n",
            "Enter No of player:-  4\n",
            "Enter Player Name:-  Ajay\n",
            "Enter which game you like to play:-  ee\n",
            "Enter No of player:-  445\n"
          ]
        }
      ]
    },
    {
      "cell_type": "code",
      "source": [
        "g1.get_detail()\n",
        "g2.get_detail()\n",
        "g3.get_detail()"
      ],
      "metadata": {
        "colab": {
          "base_uri": "https://localhost:8080/"
        },
        "id": "pwzwehAKRB50",
        "outputId": "dcd74c08-d36f-4d79-8303-37cc0d588337"
      },
      "execution_count": 39,
      "outputs": [
        {
          "output_type": "stream",
          "name": "stdout",
          "text": [
            "Name:- tejas\n",
            "Game:- 4\n",
            "No of player:- 5\n",
            "Name:- pranav\n",
            "Game:- a\n",
            "No of player:- 4\n",
            "Name:- Ajay\n",
            "Game:- ee\n",
            "No of player:- 445\n"
          ]
        }
      ]
    },
    {
      "cell_type": "code",
      "source": [
        "class Vehicle():\n",
        "  #data members\n",
        "  model_no=''\n",
        "  price=-1\n",
        "  #member methods\n",
        "  def set_details(self):\n",
        "    self.model_no=input(\"Enter the model number: \")\n",
        "    self.price=float(input(\"Enter the price of the Car: \"))\n",
        "  def get_details(self):\n",
        "    print(\"Model Number: \",self.model_no,\"\\nPrice: Rs.\",self.price)"
      ],
      "metadata": {
        "id": "5CNJVD5yRKbQ"
      },
      "execution_count": null,
      "outputs": []
    }
  ]
}