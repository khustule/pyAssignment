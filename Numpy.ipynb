{
  "nbformat": 4,
  "nbformat_minor": 0,
  "metadata": {
    "colab": {
      "name": "Numpy.ipynb",
      "provenance": [],
      "authorship_tag": "ABX9TyPcetcvRer9JYQAYL46q9W/",
      "include_colab_link": true
    },
    "kernelspec": {
      "name": "python3",
      "display_name": "Python 3"
    },
    "language_info": {
      "name": "python"
    }
  },
  "cells": [
    {
      "cell_type": "markdown",
      "metadata": {
        "id": "view-in-github",
        "colab_type": "text"
      },
      "source": [
        "<a href=\"https://colab.research.google.com/github/khustule/pyAssignment/blob/main/Numpy.ipynb\" target=\"_parent\"><img src=\"https://colab.research.google.com/assets/colab-badge.svg\" alt=\"Open In Colab\"/></a>"
      ]
    },
    {
      "cell_type": "code",
      "execution_count": null,
      "metadata": {
        "id": "Vrc5gweRp_Dc"
      },
      "outputs": [],
      "source": [
        "#numpy\n"
      ]
    },
    {
      "cell_type": "code",
      "source": [
        "import numpy as np"
      ],
      "metadata": {
        "id": "oe9zNwqGrltU"
      },
      "execution_count": null,
      "outputs": []
    },
    {
      "cell_type": "code",
      "source": [
        "a = np.array([[45,5,5,5,4,5,5,5],[1,10,5,50,4,5,5,5],[5,74,4,56,5,3,3,3],[55,4,4,8,5,1,1,1],[4,5,66,22,4,1,1,1]])\n",
        "print(a,\"\\n\", a.shape, \"\\n\" ,a.ndim, \"\\n\", a.dtype)"
      ],
      "metadata": {
        "colab": {
          "base_uri": "https://localhost:8080/"
        },
        "id": "CLjKhPPZrrYI",
        "outputId": "a890909d-b919-4ba2-c702-e6f1a011bf84"
      },
      "execution_count": null,
      "outputs": [
        {
          "output_type": "stream",
          "name": "stdout",
          "text": [
            "[[45  5  5  5  4  5  5  5]\n",
            " [ 1 10  5 50  4  5  5  5]\n",
            " [ 5 74  4 56  5  3  3  3]\n",
            " [55  4  4  8  5  1  1  1]\n",
            " [ 4  5 66 22  4  1  1  1]] \n",
            " (5, 8) \n",
            " 2 \n",
            " int64\n"
          ]
        }
      ]
    },
    {
      "cell_type": "code",
      "source": [
        "a = np.array([[45,55,5,4],[1,10,5,50],[5,74,4,56],[55,4,4,8]])\n",
        "print(a,\"\\n\", a.shape, \"\\n\" ,a.ndim, \"\\n\", a.dtype)"
      ],
      "metadata": {
        "colab": {
          "base_uri": "https://localhost:8080/"
        },
        "id": "w4XWBbJcvvVo",
        "outputId": "fce2b501-1765-4120-f615-f9ab60a98ac3"
      },
      "execution_count": null,
      "outputs": [
        {
          "output_type": "stream",
          "name": "stdout",
          "text": [
            "[[45 55  5  4]\n",
            " [ 1 10  5 50]\n",
            " [ 5 74  4 56]\n",
            " [55  4  4  8]] \n",
            " (4, 4) \n",
            " 2 \n",
            " int64\n"
          ]
        }
      ]
    },
    {
      "cell_type": "code",
      "source": [
        "a = np.array([[1,5,6]])\n",
        "print(a)\n",
        "print(a.shape)\n",
        "print(a.ndim)"
      ],
      "metadata": {
        "colab": {
          "base_uri": "https://localhost:8080/"
        },
        "id": "HASAvLgdv2ZC",
        "outputId": "875a57bf-7857-4135-d093-641581f13a42"
      },
      "execution_count": null,
      "outputs": [
        {
          "output_type": "stream",
          "name": "stdout",
          "text": [
            "[[1 5 6]]\n",
            "(1, 3)\n",
            "2\n"
          ]
        }
      ]
    },
    {
      "cell_type": "code",
      "source": [
        "a = np.array([[45,55],[1,5],[5,7]])\n",
        "print(a,\"\\n\", a.shape, \"\\n\" ,a.ndim, \"\\n\", a.dtype)"
      ],
      "metadata": {
        "colab": {
          "base_uri": "https://localhost:8080/"
        },
        "id": "DeTM9SBQv9He",
        "outputId": "3cbe467b-2665-44e9-c44b-77779dc8760a"
      },
      "execution_count": null,
      "outputs": [
        {
          "output_type": "stream",
          "name": "stdout",
          "text": [
            "[[45 55]\n",
            " [ 1  5]\n",
            " [ 5  7]] \n",
            " (3, 2) \n",
            " 2 \n",
            " int64\n"
          ]
        }
      ]
    },
    {
      "cell_type": "code",
      "source": [
        "a = np.array([[[45,55,1],[5,4,5]],[[1,10,5],[5,5,10]],[[5,7,4],[4,5,6]],[[5,5,4],[4,8,4]]])\n",
        "print(a,\"\\n\", a.shape, \"\\n\" ,a.ndim, \"\\n\", a.dtype)"
      ],
      "metadata": {
        "colab": {
          "base_uri": "https://localhost:8080/"
        },
        "id": "aR07FqWNwC8G",
        "outputId": "1671c734-60a9-45af-eb1d-39f42604eeb3"
      },
      "execution_count": null,
      "outputs": [
        {
          "output_type": "stream",
          "name": "stdout",
          "text": [
            "[[[45 55  1]\n",
            "  [ 5  4  5]]\n",
            "\n",
            " [[ 1 10  5]\n",
            "  [ 5  5 10]]\n",
            "\n",
            " [[ 5  7  4]\n",
            "  [ 4  5  6]]\n",
            "\n",
            " [[ 5  5  4]\n",
            "  [ 4  8  4]]] \n",
            " (4, 2, 3) \n",
            " 3 \n",
            " int64\n"
          ]
        }
      ]
    },
    {
      "cell_type": "code",
      "source": [
        "a = np.array([[[45,5,5,1],[5,4,5,1],[5,4,5,4]],[[1,10,5,5],[5,5,10,6],[5,4,5,6]],[[5,7,4,5],[4,5,6,4],[5,4,5,5]]])\n",
        "print(a,\"\\n\", a.shape, \"\\n\" ,a.ndim, \"\\n\", a.dtype)"
      ],
      "metadata": {
        "colab": {
          "base_uri": "https://localhost:8080/"
        },
        "id": "yhNPbH-kxdlY",
        "outputId": "350a619a-37c5-4738-d419-dd7b56f7ff26"
      },
      "execution_count": null,
      "outputs": [
        {
          "output_type": "stream",
          "name": "stdout",
          "text": [
            "[[[45  5  5  1]\n",
            "  [ 5  4  5  1]\n",
            "  [ 5  4  5  4]]\n",
            "\n",
            " [[ 1 10  5  5]\n",
            "  [ 5  5 10  6]\n",
            "  [ 5  4  5  6]]\n",
            "\n",
            " [[ 5  7  4  5]\n",
            "  [ 4  5  6  4]\n",
            "  [ 5  4  5  5]]] \n",
            " (3, 3, 4) \n",
            " 3 \n",
            " int64\n"
          ]
        }
      ]
    },
    {
      "cell_type": "code",
      "source": [
        "a = np.array([[45,55],[1,5],[5,7],[45,55],[45,55],[45,55],[45,55],[45,55],[45,55],[45,55],[45,55],[45,55]])\n",
        "print(a,\"\\n\", a.shape, \"\\n\" ,a.ndim, \"\\n\", a.dtype)                          "
      ],
      "metadata": {
        "colab": {
          "base_uri": "https://localhost:8080/"
        },
        "id": "elDtbQn5yl7M",
        "outputId": "f7433b39-51e5-4776-acf2-0bae3fec02bb"
      },
      "execution_count": null,
      "outputs": [
        {
          "output_type": "stream",
          "name": "stdout",
          "text": [
            "[[45 55]\n",
            " [ 1  5]\n",
            " [ 5  7]\n",
            " [45 55]\n",
            " [45 55]\n",
            " [45 55]\n",
            " [45 55]\n",
            " [45 55]\n",
            " [45 55]\n",
            " [45 55]\n",
            " [45 55]\n",
            " [45 55]] \n",
            " (12, 2) \n",
            " 2 \n",
            " int64\n"
          ]
        }
      ]
    },
    {
      "cell_type": "code",
      "source": [
        "a = np.array([[[[1,2]],[[4,6]]]])\n",
        "print(a,\"\\n\", a.shape, \"\\n\" ,a.ndim, \"\\n\", a.dtype) "
      ],
      "metadata": {
        "colab": {
          "base_uri": "https://localhost:8080/"
        },
        "id": "sPTibhaPz_bD",
        "outputId": "5f1b3009-d67c-4db1-c659-506cb356f130"
      },
      "execution_count": null,
      "outputs": [
        {
          "output_type": "stream",
          "name": "stdout",
          "text": [
            "[[[[1 2]]\n",
            "\n",
            "  [[4 6]]]] \n",
            " (1, 2, 1, 2) \n",
            " 4 \n",
            " int64\n"
          ]
        }
      ]
    },
    {
      "cell_type": "code",
      "source": [
        "a = np.array([[[[1,2]]],[[[1,2]]]])\n",
        "print(a,\"\\n\", a.shape, \"\\n\" ,a.ndim, \"\\n\", a.dtype)"
      ],
      "metadata": {
        "colab": {
          "base_uri": "https://localhost:8080/"
        },
        "id": "JBQETnZJ3k_1",
        "outputId": "b6a70e01-2a2c-452a-9fb0-4c10dfd52527"
      },
      "execution_count": null,
      "outputs": [
        {
          "output_type": "stream",
          "name": "stdout",
          "text": [
            "[[[[1 2]]]\n",
            "\n",
            "\n",
            " [[[1 2]]]] \n",
            " (2, 1, 1, 2) \n",
            " 4 \n",
            " int64\n"
          ]
        }
      ]
    },
    {
      "cell_type": "code",
      "source": [
        "print(type(a))"
      ],
      "metadata": {
        "colab": {
          "base_uri": "https://localhost:8080/"
        },
        "id": "36LTAT7c4sz5",
        "outputId": "57cca880-83ea-44a7-f96c-cfff42816f97"
      },
      "execution_count": null,
      "outputs": [
        {
          "output_type": "stream",
          "name": "stdout",
          "text": [
            "<class 'numpy.ndarray'>\n"
          ]
        }
      ]
    },
    {
      "cell_type": "code",
      "source": [
        "a=np.zeros((3,3))\n",
        "print(a)"
      ],
      "metadata": {
        "colab": {
          "base_uri": "https://localhost:8080/"
        },
        "id": "oAlrJC-e5lL8",
        "outputId": "578de358-0275-4761-c1d9-ea67795bd5c6"
      },
      "execution_count": null,
      "outputs": [
        {
          "output_type": "stream",
          "name": "stdout",
          "text": [
            "[[0. 0. 0.]\n",
            " [0. 0. 0.]\n",
            " [0. 0. 0.]]\n"
          ]
        }
      ]
    },
    {
      "cell_type": "code",
      "source": [
        "a=np.ones((3,8,9))\n",
        "print(a)"
      ],
      "metadata": {
        "colab": {
          "base_uri": "https://localhost:8080/"
        },
        "id": "zt_6Fx5U57ze",
        "outputId": "22f7d000-1803-482e-afbb-ed862ea935af"
      },
      "execution_count": null,
      "outputs": [
        {
          "output_type": "stream",
          "name": "stdout",
          "text": [
            "[[[1. 1. 1. 1. 1. 1. 1. 1. 1.]\n",
            "  [1. 1. 1. 1. 1. 1. 1. 1. 1.]\n",
            "  [1. 1. 1. 1. 1. 1. 1. 1. 1.]\n",
            "  [1. 1. 1. 1. 1. 1. 1. 1. 1.]\n",
            "  [1. 1. 1. 1. 1. 1. 1. 1. 1.]\n",
            "  [1. 1. 1. 1. 1. 1. 1. 1. 1.]\n",
            "  [1. 1. 1. 1. 1. 1. 1. 1. 1.]\n",
            "  [1. 1. 1. 1. 1. 1. 1. 1. 1.]]\n",
            "\n",
            " [[1. 1. 1. 1. 1. 1. 1. 1. 1.]\n",
            "  [1. 1. 1. 1. 1. 1. 1. 1. 1.]\n",
            "  [1. 1. 1. 1. 1. 1. 1. 1. 1.]\n",
            "  [1. 1. 1. 1. 1. 1. 1. 1. 1.]\n",
            "  [1. 1. 1. 1. 1. 1. 1. 1. 1.]\n",
            "  [1. 1. 1. 1. 1. 1. 1. 1. 1.]\n",
            "  [1. 1. 1. 1. 1. 1. 1. 1. 1.]\n",
            "  [1. 1. 1. 1. 1. 1. 1. 1. 1.]]\n",
            "\n",
            " [[1. 1. 1. 1. 1. 1. 1. 1. 1.]\n",
            "  [1. 1. 1. 1. 1. 1. 1. 1. 1.]\n",
            "  [1. 1. 1. 1. 1. 1. 1. 1. 1.]\n",
            "  [1. 1. 1. 1. 1. 1. 1. 1. 1.]\n",
            "  [1. 1. 1. 1. 1. 1. 1. 1. 1.]\n",
            "  [1. 1. 1. 1. 1. 1. 1. 1. 1.]\n",
            "  [1. 1. 1. 1. 1. 1. 1. 1. 1.]\n",
            "  [1. 1. 1. 1. 1. 1. 1. 1. 1.]]]\n"
          ]
        }
      ]
    },
    {
      "cell_type": "code",
      "source": [
        "a=np.full((3,8,9),6)\n",
        "print(a)"
      ],
      "metadata": {
        "colab": {
          "base_uri": "https://localhost:8080/"
        },
        "id": "cpIh0UA96NlJ",
        "outputId": "fa389f71-444a-4d6b-eacb-404139dde399"
      },
      "execution_count": null,
      "outputs": [
        {
          "output_type": "stream",
          "name": "stdout",
          "text": [
            "[[[6 6 6 6 6 6 6 6 6]\n",
            "  [6 6 6 6 6 6 6 6 6]\n",
            "  [6 6 6 6 6 6 6 6 6]\n",
            "  [6 6 6 6 6 6 6 6 6]\n",
            "  [6 6 6 6 6 6 6 6 6]\n",
            "  [6 6 6 6 6 6 6 6 6]\n",
            "  [6 6 6 6 6 6 6 6 6]\n",
            "  [6 6 6 6 6 6 6 6 6]]\n",
            "\n",
            " [[6 6 6 6 6 6 6 6 6]\n",
            "  [6 6 6 6 6 6 6 6 6]\n",
            "  [6 6 6 6 6 6 6 6 6]\n",
            "  [6 6 6 6 6 6 6 6 6]\n",
            "  [6 6 6 6 6 6 6 6 6]\n",
            "  [6 6 6 6 6 6 6 6 6]\n",
            "  [6 6 6 6 6 6 6 6 6]\n",
            "  [6 6 6 6 6 6 6 6 6]]\n",
            "\n",
            " [[6 6 6 6 6 6 6 6 6]\n",
            "  [6 6 6 6 6 6 6 6 6]\n",
            "  [6 6 6 6 6 6 6 6 6]\n",
            "  [6 6 6 6 6 6 6 6 6]\n",
            "  [6 6 6 6 6 6 6 6 6]\n",
            "  [6 6 6 6 6 6 6 6 6]\n",
            "  [6 6 6 6 6 6 6 6 6]\n",
            "  [6 6 6 6 6 6 6 6 6]]]\n"
          ]
        }
      ]
    },
    {
      "cell_type": "code",
      "source": [
        "a=np.eye((3))\n",
        "print(a)"
      ],
      "metadata": {
        "colab": {
          "base_uri": "https://localhost:8080/"
        },
        "id": "ClwpzCSc6dS4",
        "outputId": "933333b3-6d4a-4dea-fdf6-17b912f08659"
      },
      "execution_count": null,
      "outputs": [
        {
          "output_type": "stream",
          "name": "stdout",
          "text": [
            "[[1. 0. 0.]\n",
            " [0. 1. 0.]\n",
            " [0. 0. 1.]]\n"
          ]
        }
      ]
    },
    {
      "cell_type": "code",
      "source": [
        "np.random.random((4,5,2))"
      ],
      "metadata": {
        "colab": {
          "base_uri": "https://localhost:8080/"
        },
        "id": "rBz31wyM6n58",
        "outputId": "8cf0bccb-c700-46eb-b6ba-9f3760add287"
      },
      "execution_count": null,
      "outputs": [
        {
          "output_type": "execute_result",
          "data": {
            "text/plain": [
              "array([[[0.33123533, 0.54643669],\n",
              "        [0.19011088, 0.35186093],\n",
              "        [0.23131556, 0.04032917],\n",
              "        [0.52306842, 0.15098552],\n",
              "        [0.45627856, 0.74467696]],\n",
              "\n",
              "       [[0.20855776, 0.36330282],\n",
              "        [0.0025327 , 0.20249539],\n",
              "        [0.60524556, 0.04514702],\n",
              "        [0.02445984, 0.01117656],\n",
              "        [0.22404496, 0.73789853]],\n",
              "\n",
              "       [[0.60925527, 0.98607238],\n",
              "        [0.57808405, 0.81475352],\n",
              "        [0.37632224, 0.35326322],\n",
              "        [0.77012373, 0.73267687],\n",
              "        [0.88309952, 0.24618306]],\n",
              "\n",
              "       [[0.27515928, 0.88661553],\n",
              "        [0.74748974, 0.76906693],\n",
              "        [0.50216725, 0.53703779],\n",
              "        [0.6889586 , 0.42437788],\n",
              "        [0.91442437, 0.40312663]]])"
            ]
          },
          "metadata": {},
          "execution_count": 34
        }
      ]
    },
    {
      "cell_type": "code",
      "source": [
        "np.random.randint((1,2))"
      ],
      "metadata": {
        "colab": {
          "base_uri": "https://localhost:8080/"
        },
        "id": "D1ok-F8J6zb2",
        "outputId": "f852e9cf-07a9-4bfe-90f0-43fd5c47fb3c"
      },
      "execution_count": null,
      "outputs": [
        {
          "output_type": "execute_result",
          "data": {
            "text/plain": [
              "array([0, 0])"
            ]
          },
          "metadata": {},
          "execution_count": 36
        }
      ]
    },
    {
      "cell_type": "code",
      "source": [
        "def gen_numb():\n",
        "  a = np.random.rand()\n",
        "  return a"
      ],
      "metadata": {
        "id": "JFW7MmOI7LYY"
      },
      "execution_count": null,
      "outputs": []
    },
    {
      "cell_type": "code",
      "source": [
        "gen_numb()"
      ],
      "metadata": {
        "colab": {
          "base_uri": "https://localhost:8080/"
        },
        "id": "HL4loF8w7xxK",
        "outputId": "3493aae9-2537-4aa3-9502-e6451d1e5f98"
      },
      "execution_count": null,
      "outputs": [
        {
          "output_type": "execute_result",
          "data": {
            "text/plain": [
              "0.4978546239706325"
            ]
          },
          "metadata": {},
          "execution_count": 53
        }
      ]
    },
    {
      "cell_type": "code",
      "source": [
        "def gen_numb4():\n",
        "  a = np.random.randint(4,6)\n",
        "  return a"
      ],
      "metadata": {
        "id": "nmgv9gd774EN"
      },
      "execution_count": null,
      "outputs": []
    },
    {
      "cell_type": "code",
      "source": [
        "gen_numb4()"
      ],
      "metadata": {
        "colab": {
          "base_uri": "https://localhost:8080/"
        },
        "id": "jA3pnlVr8XKX",
        "outputId": "8d59cc55-cea2-44b6-b1e8-2d351c429c36"
      },
      "execution_count": null,
      "outputs": [
        {
          "output_type": "execute_result",
          "data": {
            "text/plain": [
              "5"
            ]
          },
          "metadata": {},
          "execution_count": 56
        }
      ]
    },
    {
      "cell_type": "code",
      "source": [
        "import numpy as np\n",
        "def get_matrix():\n",
        "    q = int(input())\n",
        "    w = int(input())\n",
        "    a=np.ones((q,w))\n",
        "    print(a)"
      ],
      "metadata": {
        "id": "5ZXkvQNl8ep9"
      },
      "execution_count": null,
      "outputs": []
    },
    {
      "cell_type": "code",
      "source": [
        "get_matrix()"
      ],
      "metadata": {
        "colab": {
          "base_uri": "https://localhost:8080/"
        },
        "id": "zHbPXEZW_OKD",
        "outputId": "8f34438d-78b3-49dd-867d-013d0fb83393"
      },
      "execution_count": null,
      "outputs": [
        {
          "output_type": "stream",
          "name": "stdout",
          "text": [
            "5\n",
            "6\n",
            "[[1. 1. 1. 1. 1. 1.]\n",
            " [1. 1. 1. 1. 1. 1.]\n",
            " [1. 1. 1. 1. 1. 1.]\n",
            " [1. 1. 1. 1. 1. 1.]\n",
            " [1. 1. 1. 1. 1. 1.]]\n"
          ]
        }
      ]
    },
    {
      "cell_type": "code",
      "source": [
        "56"
      ],
      "metadata": {
        "colab": {
          "base_uri": "https://localhost:8080/"
        },
        "id": "5VWdHtEJGIn2",
        "outputId": "1936cacb-91af-4425-f0a4-f8009cedbb4f"
      },
      "execution_count": null,
      "outputs": [
        {
          "output_type": "execute_result",
          "data": {
            "text/plain": [
              "56"
            ]
          },
          "metadata": {},
          "execution_count": 7
        }
      ]
    },
    {
      "cell_type": "code",
      "source": [
        "i=input(\"Enter Shape\")\n",
        "li=i.split(\"x\")\n",
        "lenli=len(li)\n",
        "x=list(map(int,li))\n",
        "l1=[]\n",
        "for i in range(x[lenli-1]):\n",
        "    l1.append(i)\n",
        "l2=[]\n",
        "for i in range(x[lenli-2]):\n",
        "    l2.append(l1)\n",
        "l3=[]\n",
        "for i in range(x[lenli-3]):\n",
        "    l3.append(l2)\n",
        "l4=[]\n",
        "for i in range(x[lenli-4]):\n",
        "    l4.append(l3)\n",
        "a=np.array(l4)\n",
        "print(a)"
      ],
      "metadata": {
        "colab": {
          "base_uri": "https://localhost:8080/"
        },
        "id": "PfgmsHlGGupo",
        "outputId": "2e3f6896-bf32-4666-9efe-75d3f793c077"
      },
      "execution_count": null,
      "outputs": [
        {
          "output_type": "stream",
          "name": "stdout",
          "text": [
            "Enter Shape4x4x4x4\n",
            "[[[[0 1 2 3]\n",
            "   [0 1 2 3]\n",
            "   [0 1 2 3]\n",
            "   [0 1 2 3]]\n",
            "\n",
            "  [[0 1 2 3]\n",
            "   [0 1 2 3]\n",
            "   [0 1 2 3]\n",
            "   [0 1 2 3]]\n",
            "\n",
            "  [[0 1 2 3]\n",
            "   [0 1 2 3]\n",
            "   [0 1 2 3]\n",
            "   [0 1 2 3]]\n",
            "\n",
            "  [[0 1 2 3]\n",
            "   [0 1 2 3]\n",
            "   [0 1 2 3]\n",
            "   [0 1 2 3]]]\n",
            "\n",
            "\n",
            " [[[0 1 2 3]\n",
            "   [0 1 2 3]\n",
            "   [0 1 2 3]\n",
            "   [0 1 2 3]]\n",
            "\n",
            "  [[0 1 2 3]\n",
            "   [0 1 2 3]\n",
            "   [0 1 2 3]\n",
            "   [0 1 2 3]]\n",
            "\n",
            "  [[0 1 2 3]\n",
            "   [0 1 2 3]\n",
            "   [0 1 2 3]\n",
            "   [0 1 2 3]]\n",
            "\n",
            "  [[0 1 2 3]\n",
            "   [0 1 2 3]\n",
            "   [0 1 2 3]\n",
            "   [0 1 2 3]]]\n",
            "\n",
            "\n",
            " [[[0 1 2 3]\n",
            "   [0 1 2 3]\n",
            "   [0 1 2 3]\n",
            "   [0 1 2 3]]\n",
            "\n",
            "  [[0 1 2 3]\n",
            "   [0 1 2 3]\n",
            "   [0 1 2 3]\n",
            "   [0 1 2 3]]\n",
            "\n",
            "  [[0 1 2 3]\n",
            "   [0 1 2 3]\n",
            "   [0 1 2 3]\n",
            "   [0 1 2 3]]\n",
            "\n",
            "  [[0 1 2 3]\n",
            "   [0 1 2 3]\n",
            "   [0 1 2 3]\n",
            "   [0 1 2 3]]]\n",
            "\n",
            "\n",
            " [[[0 1 2 3]\n",
            "   [0 1 2 3]\n",
            "   [0 1 2 3]\n",
            "   [0 1 2 3]]\n",
            "\n",
            "  [[0 1 2 3]\n",
            "   [0 1 2 3]\n",
            "   [0 1 2 3]\n",
            "   [0 1 2 3]]\n",
            "\n",
            "  [[0 1 2 3]\n",
            "   [0 1 2 3]\n",
            "   [0 1 2 3]\n",
            "   [0 1 2 3]]\n",
            "\n",
            "  [[0 1 2 3]\n",
            "   [0 1 2 3]\n",
            "   [0 1 2 3]\n",
            "   [0 1 2 3]]]]\n"
          ]
        }
      ]
    },
    {
      "cell_type": "code",
      "source": [
        ""
      ],
      "metadata": {
        "id": "bApztpbramIE"
      },
      "execution_count": null,
      "outputs": []
    }
  ]
}